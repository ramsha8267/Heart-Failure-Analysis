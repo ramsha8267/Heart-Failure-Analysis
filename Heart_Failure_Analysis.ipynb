{
  "nbformat": 4,
  "nbformat_minor": 0,
  "metadata": {
    "colab": {
      "provenance": [],
      "collapsed_sections": []
    },
    "kernelspec": {
      "name": "python3",
      "display_name": "Python 3"
    },
    "language_info": {
      "name": "python"
    }
  },
  "cells": [
    {
      "cell_type": "markdown",
      "source": [
        "# **Heart Failure Analysis**"
      ],
      "metadata": {
        "id": "kOlxaeeloOW3"
      }
    },
    {
      "cell_type": "code",
      "source": [
        "from google.colab import drive\n",
        "drive.mount('/content/drive')"
      ],
      "metadata": {
        "colab": {
          "base_uri": "https://localhost:8080/"
        },
        "id": "1Pq6gxcmn7ZP",
        "outputId": "0e0c33b7-21f1-4d49-adef-fd4a4c519bb3"
      },
      "execution_count": 2,
      "outputs": [
        {
          "output_type": "stream",
          "name": "stdout",
          "text": [
            "Mounted at /content/drive\n"
          ]
        }
      ]
    },
    {
      "cell_type": "markdown",
      "source": [
        "##Data Preparation and Cleaning"
      ],
      "metadata": {
        "id": "69Q87WNeotrR"
      }
    },
    {
      "cell_type": "code",
      "source": [
        "import pandas as pd\n",
        "import numpy as np\n",
        "\n",
        "path='/content/drive/MyDrive/Colab Notebooks/heart_failure_clinical_records_dataset.csv'\n",
        "df=pd.read_csv(path)\n",
        "df"
      ],
      "metadata": {
        "colab": {
          "base_uri": "https://localhost:8080/",
          "height": 488
        },
        "id": "nXvdY7f3oaav",
        "outputId": "f69f3546-92db-4876-f4ee-f52f597b2ccd"
      },
      "execution_count": 3,
      "outputs": [
        {
          "output_type": "execute_result",
          "data": {
            "text/plain": [
              "      age  anaemia  creatinine_phosphokinase  diabetes  ejection_fraction  \\\n",
              "0    75.0        0                       582         0                 20   \n",
              "1    55.0        0                      7861         0                 38   \n",
              "2    65.0        0                       146         0                 20   \n",
              "3    50.0        1                       111         0                 20   \n",
              "4    65.0        1                       160         1                 20   \n",
              "..    ...      ...                       ...       ...                ...   \n",
              "294  62.0        0                        61         1                 38   \n",
              "295  55.0        0                      1820         0                 38   \n",
              "296  45.0        0                      2060         1                 60   \n",
              "297  45.0        0                      2413         0                 38   \n",
              "298  50.0        0                       196         0                 45   \n",
              "\n",
              "     high_blood_pressure  platelets  serum_creatinine  serum_sodium  sex  \\\n",
              "0                      1  265000.00               1.9           130    1   \n",
              "1                      0  263358.03               1.1           136    1   \n",
              "2                      0  162000.00               1.3           129    1   \n",
              "3                      0  210000.00               1.9           137    1   \n",
              "4                      0  327000.00               2.7           116    0   \n",
              "..                   ...        ...               ...           ...  ...   \n",
              "294                    1  155000.00               1.1           143    1   \n",
              "295                    0  270000.00               1.2           139    0   \n",
              "296                    0  742000.00               0.8           138    0   \n",
              "297                    0  140000.00               1.4           140    1   \n",
              "298                    0  395000.00               1.6           136    1   \n",
              "\n",
              "     smoking  time  DEATH_EVENT  \n",
              "0          0     4            1  \n",
              "1          0     6            1  \n",
              "2          1     7            1  \n",
              "3          0     7            1  \n",
              "4          0     8            1  \n",
              "..       ...   ...          ...  \n",
              "294        1   270            0  \n",
              "295        0   271            0  \n",
              "296        0   278            0  \n",
              "297        1   280            0  \n",
              "298        1   285            0  \n",
              "\n",
              "[299 rows x 13 columns]"
            ],
            "text/html": [
              "\n",
              "  <div id=\"df-8020a355-92df-4eee-aa32-9378dee9b9ed\">\n",
              "    <div class=\"colab-df-container\">\n",
              "      <div>\n",
              "<style scoped>\n",
              "    .dataframe tbody tr th:only-of-type {\n",
              "        vertical-align: middle;\n",
              "    }\n",
              "\n",
              "    .dataframe tbody tr th {\n",
              "        vertical-align: top;\n",
              "    }\n",
              "\n",
              "    .dataframe thead th {\n",
              "        text-align: right;\n",
              "    }\n",
              "</style>\n",
              "<table border=\"1\" class=\"dataframe\">\n",
              "  <thead>\n",
              "    <tr style=\"text-align: right;\">\n",
              "      <th></th>\n",
              "      <th>age</th>\n",
              "      <th>anaemia</th>\n",
              "      <th>creatinine_phosphokinase</th>\n",
              "      <th>diabetes</th>\n",
              "      <th>ejection_fraction</th>\n",
              "      <th>high_blood_pressure</th>\n",
              "      <th>platelets</th>\n",
              "      <th>serum_creatinine</th>\n",
              "      <th>serum_sodium</th>\n",
              "      <th>sex</th>\n",
              "      <th>smoking</th>\n",
              "      <th>time</th>\n",
              "      <th>DEATH_EVENT</th>\n",
              "    </tr>\n",
              "  </thead>\n",
              "  <tbody>\n",
              "    <tr>\n",
              "      <th>0</th>\n",
              "      <td>75.0</td>\n",
              "      <td>0</td>\n",
              "      <td>582</td>\n",
              "      <td>0</td>\n",
              "      <td>20</td>\n",
              "      <td>1</td>\n",
              "      <td>265000.00</td>\n",
              "      <td>1.9</td>\n",
              "      <td>130</td>\n",
              "      <td>1</td>\n",
              "      <td>0</td>\n",
              "      <td>4</td>\n",
              "      <td>1</td>\n",
              "    </tr>\n",
              "    <tr>\n",
              "      <th>1</th>\n",
              "      <td>55.0</td>\n",
              "      <td>0</td>\n",
              "      <td>7861</td>\n",
              "      <td>0</td>\n",
              "      <td>38</td>\n",
              "      <td>0</td>\n",
              "      <td>263358.03</td>\n",
              "      <td>1.1</td>\n",
              "      <td>136</td>\n",
              "      <td>1</td>\n",
              "      <td>0</td>\n",
              "      <td>6</td>\n",
              "      <td>1</td>\n",
              "    </tr>\n",
              "    <tr>\n",
              "      <th>2</th>\n",
              "      <td>65.0</td>\n",
              "      <td>0</td>\n",
              "      <td>146</td>\n",
              "      <td>0</td>\n",
              "      <td>20</td>\n",
              "      <td>0</td>\n",
              "      <td>162000.00</td>\n",
              "      <td>1.3</td>\n",
              "      <td>129</td>\n",
              "      <td>1</td>\n",
              "      <td>1</td>\n",
              "      <td>7</td>\n",
              "      <td>1</td>\n",
              "    </tr>\n",
              "    <tr>\n",
              "      <th>3</th>\n",
              "      <td>50.0</td>\n",
              "      <td>1</td>\n",
              "      <td>111</td>\n",
              "      <td>0</td>\n",
              "      <td>20</td>\n",
              "      <td>0</td>\n",
              "      <td>210000.00</td>\n",
              "      <td>1.9</td>\n",
              "      <td>137</td>\n",
              "      <td>1</td>\n",
              "      <td>0</td>\n",
              "      <td>7</td>\n",
              "      <td>1</td>\n",
              "    </tr>\n",
              "    <tr>\n",
              "      <th>4</th>\n",
              "      <td>65.0</td>\n",
              "      <td>1</td>\n",
              "      <td>160</td>\n",
              "      <td>1</td>\n",
              "      <td>20</td>\n",
              "      <td>0</td>\n",
              "      <td>327000.00</td>\n",
              "      <td>2.7</td>\n",
              "      <td>116</td>\n",
              "      <td>0</td>\n",
              "      <td>0</td>\n",
              "      <td>8</td>\n",
              "      <td>1</td>\n",
              "    </tr>\n",
              "    <tr>\n",
              "      <th>...</th>\n",
              "      <td>...</td>\n",
              "      <td>...</td>\n",
              "      <td>...</td>\n",
              "      <td>...</td>\n",
              "      <td>...</td>\n",
              "      <td>...</td>\n",
              "      <td>...</td>\n",
              "      <td>...</td>\n",
              "      <td>...</td>\n",
              "      <td>...</td>\n",
              "      <td>...</td>\n",
              "      <td>...</td>\n",
              "      <td>...</td>\n",
              "    </tr>\n",
              "    <tr>\n",
              "      <th>294</th>\n",
              "      <td>62.0</td>\n",
              "      <td>0</td>\n",
              "      <td>61</td>\n",
              "      <td>1</td>\n",
              "      <td>38</td>\n",
              "      <td>1</td>\n",
              "      <td>155000.00</td>\n",
              "      <td>1.1</td>\n",
              "      <td>143</td>\n",
              "      <td>1</td>\n",
              "      <td>1</td>\n",
              "      <td>270</td>\n",
              "      <td>0</td>\n",
              "    </tr>\n",
              "    <tr>\n",
              "      <th>295</th>\n",
              "      <td>55.0</td>\n",
              "      <td>0</td>\n",
              "      <td>1820</td>\n",
              "      <td>0</td>\n",
              "      <td>38</td>\n",
              "      <td>0</td>\n",
              "      <td>270000.00</td>\n",
              "      <td>1.2</td>\n",
              "      <td>139</td>\n",
              "      <td>0</td>\n",
              "      <td>0</td>\n",
              "      <td>271</td>\n",
              "      <td>0</td>\n",
              "    </tr>\n",
              "    <tr>\n",
              "      <th>296</th>\n",
              "      <td>45.0</td>\n",
              "      <td>0</td>\n",
              "      <td>2060</td>\n",
              "      <td>1</td>\n",
              "      <td>60</td>\n",
              "      <td>0</td>\n",
              "      <td>742000.00</td>\n",
              "      <td>0.8</td>\n",
              "      <td>138</td>\n",
              "      <td>0</td>\n",
              "      <td>0</td>\n",
              "      <td>278</td>\n",
              "      <td>0</td>\n",
              "    </tr>\n",
              "    <tr>\n",
              "      <th>297</th>\n",
              "      <td>45.0</td>\n",
              "      <td>0</td>\n",
              "      <td>2413</td>\n",
              "      <td>0</td>\n",
              "      <td>38</td>\n",
              "      <td>0</td>\n",
              "      <td>140000.00</td>\n",
              "      <td>1.4</td>\n",
              "      <td>140</td>\n",
              "      <td>1</td>\n",
              "      <td>1</td>\n",
              "      <td>280</td>\n",
              "      <td>0</td>\n",
              "    </tr>\n",
              "    <tr>\n",
              "      <th>298</th>\n",
              "      <td>50.0</td>\n",
              "      <td>0</td>\n",
              "      <td>196</td>\n",
              "      <td>0</td>\n",
              "      <td>45</td>\n",
              "      <td>0</td>\n",
              "      <td>395000.00</td>\n",
              "      <td>1.6</td>\n",
              "      <td>136</td>\n",
              "      <td>1</td>\n",
              "      <td>1</td>\n",
              "      <td>285</td>\n",
              "      <td>0</td>\n",
              "    </tr>\n",
              "  </tbody>\n",
              "</table>\n",
              "<p>299 rows × 13 columns</p>\n",
              "</div>\n",
              "      <button class=\"colab-df-convert\" onclick=\"convertToInteractive('df-8020a355-92df-4eee-aa32-9378dee9b9ed')\"\n",
              "              title=\"Convert this dataframe to an interactive table.\"\n",
              "              style=\"display:none;\">\n",
              "        \n",
              "  <svg xmlns=\"http://www.w3.org/2000/svg\" height=\"24px\"viewBox=\"0 0 24 24\"\n",
              "       width=\"24px\">\n",
              "    <path d=\"M0 0h24v24H0V0z\" fill=\"none\"/>\n",
              "    <path d=\"M18.56 5.44l.94 2.06.94-2.06 2.06-.94-2.06-.94-.94-2.06-.94 2.06-2.06.94zm-11 1L8.5 8.5l.94-2.06 2.06-.94-2.06-.94L8.5 2.5l-.94 2.06-2.06.94zm10 10l.94 2.06.94-2.06 2.06-.94-2.06-.94-.94-2.06-.94 2.06-2.06.94z\"/><path d=\"M17.41 7.96l-1.37-1.37c-.4-.4-.92-.59-1.43-.59-.52 0-1.04.2-1.43.59L10.3 9.45l-7.72 7.72c-.78.78-.78 2.05 0 2.83L4 21.41c.39.39.9.59 1.41.59.51 0 1.02-.2 1.41-.59l7.78-7.78 2.81-2.81c.8-.78.8-2.07 0-2.86zM5.41 20L4 18.59l7.72-7.72 1.47 1.35L5.41 20z\"/>\n",
              "  </svg>\n",
              "      </button>\n",
              "      \n",
              "  <style>\n",
              "    .colab-df-container {\n",
              "      display:flex;\n",
              "      flex-wrap:wrap;\n",
              "      gap: 12px;\n",
              "    }\n",
              "\n",
              "    .colab-df-convert {\n",
              "      background-color: #E8F0FE;\n",
              "      border: none;\n",
              "      border-radius: 50%;\n",
              "      cursor: pointer;\n",
              "      display: none;\n",
              "      fill: #1967D2;\n",
              "      height: 32px;\n",
              "      padding: 0 0 0 0;\n",
              "      width: 32px;\n",
              "    }\n",
              "\n",
              "    .colab-df-convert:hover {\n",
              "      background-color: #E2EBFA;\n",
              "      box-shadow: 0px 1px 2px rgba(60, 64, 67, 0.3), 0px 1px 3px 1px rgba(60, 64, 67, 0.15);\n",
              "      fill: #174EA6;\n",
              "    }\n",
              "\n",
              "    [theme=dark] .colab-df-convert {\n",
              "      background-color: #3B4455;\n",
              "      fill: #D2E3FC;\n",
              "    }\n",
              "\n",
              "    [theme=dark] .colab-df-convert:hover {\n",
              "      background-color: #434B5C;\n",
              "      box-shadow: 0px 1px 3px 1px rgba(0, 0, 0, 0.15);\n",
              "      filter: drop-shadow(0px 1px 2px rgba(0, 0, 0, 0.3));\n",
              "      fill: #FFFFFF;\n",
              "    }\n",
              "  </style>\n",
              "\n",
              "      <script>\n",
              "        const buttonEl =\n",
              "          document.querySelector('#df-8020a355-92df-4eee-aa32-9378dee9b9ed button.colab-df-convert');\n",
              "        buttonEl.style.display =\n",
              "          google.colab.kernel.accessAllowed ? 'block' : 'none';\n",
              "\n",
              "        async function convertToInteractive(key) {\n",
              "          const element = document.querySelector('#df-8020a355-92df-4eee-aa32-9378dee9b9ed');\n",
              "          const dataTable =\n",
              "            await google.colab.kernel.invokeFunction('convertToInteractive',\n",
              "                                                     [key], {});\n",
              "          if (!dataTable) return;\n",
              "\n",
              "          const docLinkHtml = 'Like what you see? Visit the ' +\n",
              "            '<a target=\"_blank\" href=https://colab.research.google.com/notebooks/data_table.ipynb>data table notebook</a>'\n",
              "            + ' to learn more about interactive tables.';\n",
              "          element.innerHTML = '';\n",
              "          dataTable['output_type'] = 'display_data';\n",
              "          await google.colab.output.renderOutput(dataTable, element);\n",
              "          const docLink = document.createElement('div');\n",
              "          docLink.innerHTML = docLinkHtml;\n",
              "          element.appendChild(docLink);\n",
              "        }\n",
              "      </script>\n",
              "    </div>\n",
              "  </div>\n",
              "  "
            ]
          },
          "metadata": {},
          "execution_count": 3
        }
      ]
    },
    {
      "cell_type": "markdown",
      "source": [
        "######Let's modify our \"heart_failure_df\" data frame by dropping unnecessary columns / rows, renaming the column names, changing the data type of column and so on."
      ],
      "metadata": {
        "id": "fc_PdYfIs_jJ"
      }
    },
    {
      "cell_type": "code",
      "source": [
        "## renaming the Death Event as Patient_Dead\n",
        "df.rename(columns = {'DEATH_EVENT':'patient_dead'}, inplace = True)\n",
        "\n",
        "## Dropping the time columns which is not neccessary\n",
        "df.drop(columns=['time'],inplace=True)"
      ],
      "metadata": {
        "id": "Lf-41BCgpTvw"
      },
      "execution_count": 4,
      "outputs": []
    },
    {
      "cell_type": "code",
      "source": [
        "## Converting the datatype of age from float to int\n",
        "df.age=df.age.astype('int')"
      ],
      "metadata": {
        "id": "eujx1CPYqOsD"
      },
      "execution_count": 5,
      "outputs": []
    },
    {
      "cell_type": "code",
      "source": [
        "#changing the data type of following columns to bool type for our convenience \n",
        "df[['anaemia','diabetes','high_blood_pressure', 'smoking', 'patient_dead']] = df[['anaemia','diabetes', 'high_blood_pressure', 'smoking', 'patient_dead']].astype(bool)"
      ],
      "metadata": {
        "id": "YBuI7fzwqqQR"
      },
      "execution_count": 6,
      "outputs": []
    },
    {
      "cell_type": "code",
      "source": [
        "## Changing the sex to Male and Female\n",
        "df['sex']=np.where(df['sex']==1,'Male','Female')"
      ],
      "metadata": {
        "id": "RYIf87b_qzau"
      },
      "execution_count": 7,
      "outputs": []
    },
    {
      "cell_type": "code",
      "source": [
        "## Changing the platelets count to kg-platelets/mcL\n",
        "df['platelets']=(df['platelets']/1000).astype('int')"
      ],
      "metadata": {
        "id": "8K6Kfgk_rVlU"
      },
      "execution_count": 8,
      "outputs": []
    },
    {
      "cell_type": "code",
      "source": [
        "df"
      ],
      "metadata": {
        "colab": {
          "base_uri": "https://localhost:8080/",
          "height": 488
        },
        "id": "sLKSx9jOsksF",
        "outputId": "7e2864ad-5570-413c-bc90-75be520c6481"
      },
      "execution_count": 9,
      "outputs": [
        {
          "output_type": "execute_result",
          "data": {
            "text/plain": [
              "     age  anaemia  creatinine_phosphokinase  diabetes  ejection_fraction  \\\n",
              "0     75    False                       582     False                 20   \n",
              "1     55    False                      7861     False                 38   \n",
              "2     65    False                       146     False                 20   \n",
              "3     50     True                       111     False                 20   \n",
              "4     65     True                       160      True                 20   \n",
              "..   ...      ...                       ...       ...                ...   \n",
              "294   62    False                        61      True                 38   \n",
              "295   55    False                      1820     False                 38   \n",
              "296   45    False                      2060      True                 60   \n",
              "297   45    False                      2413     False                 38   \n",
              "298   50    False                       196     False                 45   \n",
              "\n",
              "     high_blood_pressure  platelets  serum_creatinine  serum_sodium     sex  \\\n",
              "0                   True        265               1.9           130    Male   \n",
              "1                  False        263               1.1           136    Male   \n",
              "2                  False        162               1.3           129    Male   \n",
              "3                  False        210               1.9           137    Male   \n",
              "4                  False        327               2.7           116  Female   \n",
              "..                   ...        ...               ...           ...     ...   \n",
              "294                 True        155               1.1           143    Male   \n",
              "295                False        270               1.2           139  Female   \n",
              "296                False        742               0.8           138  Female   \n",
              "297                False        140               1.4           140    Male   \n",
              "298                False        395               1.6           136    Male   \n",
              "\n",
              "     smoking  patient_dead  \n",
              "0      False          True  \n",
              "1      False          True  \n",
              "2       True          True  \n",
              "3      False          True  \n",
              "4      False          True  \n",
              "..       ...           ...  \n",
              "294     True         False  \n",
              "295    False         False  \n",
              "296    False         False  \n",
              "297     True         False  \n",
              "298     True         False  \n",
              "\n",
              "[299 rows x 12 columns]"
            ],
            "text/html": [
              "\n",
              "  <div id=\"df-f6f456a9-a308-480e-baff-b196fffef01f\">\n",
              "    <div class=\"colab-df-container\">\n",
              "      <div>\n",
              "<style scoped>\n",
              "    .dataframe tbody tr th:only-of-type {\n",
              "        vertical-align: middle;\n",
              "    }\n",
              "\n",
              "    .dataframe tbody tr th {\n",
              "        vertical-align: top;\n",
              "    }\n",
              "\n",
              "    .dataframe thead th {\n",
              "        text-align: right;\n",
              "    }\n",
              "</style>\n",
              "<table border=\"1\" class=\"dataframe\">\n",
              "  <thead>\n",
              "    <tr style=\"text-align: right;\">\n",
              "      <th></th>\n",
              "      <th>age</th>\n",
              "      <th>anaemia</th>\n",
              "      <th>creatinine_phosphokinase</th>\n",
              "      <th>diabetes</th>\n",
              "      <th>ejection_fraction</th>\n",
              "      <th>high_blood_pressure</th>\n",
              "      <th>platelets</th>\n",
              "      <th>serum_creatinine</th>\n",
              "      <th>serum_sodium</th>\n",
              "      <th>sex</th>\n",
              "      <th>smoking</th>\n",
              "      <th>patient_dead</th>\n",
              "    </tr>\n",
              "  </thead>\n",
              "  <tbody>\n",
              "    <tr>\n",
              "      <th>0</th>\n",
              "      <td>75</td>\n",
              "      <td>False</td>\n",
              "      <td>582</td>\n",
              "      <td>False</td>\n",
              "      <td>20</td>\n",
              "      <td>True</td>\n",
              "      <td>265</td>\n",
              "      <td>1.9</td>\n",
              "      <td>130</td>\n",
              "      <td>Male</td>\n",
              "      <td>False</td>\n",
              "      <td>True</td>\n",
              "    </tr>\n",
              "    <tr>\n",
              "      <th>1</th>\n",
              "      <td>55</td>\n",
              "      <td>False</td>\n",
              "      <td>7861</td>\n",
              "      <td>False</td>\n",
              "      <td>38</td>\n",
              "      <td>False</td>\n",
              "      <td>263</td>\n",
              "      <td>1.1</td>\n",
              "      <td>136</td>\n",
              "      <td>Male</td>\n",
              "      <td>False</td>\n",
              "      <td>True</td>\n",
              "    </tr>\n",
              "    <tr>\n",
              "      <th>2</th>\n",
              "      <td>65</td>\n",
              "      <td>False</td>\n",
              "      <td>146</td>\n",
              "      <td>False</td>\n",
              "      <td>20</td>\n",
              "      <td>False</td>\n",
              "      <td>162</td>\n",
              "      <td>1.3</td>\n",
              "      <td>129</td>\n",
              "      <td>Male</td>\n",
              "      <td>True</td>\n",
              "      <td>True</td>\n",
              "    </tr>\n",
              "    <tr>\n",
              "      <th>3</th>\n",
              "      <td>50</td>\n",
              "      <td>True</td>\n",
              "      <td>111</td>\n",
              "      <td>False</td>\n",
              "      <td>20</td>\n",
              "      <td>False</td>\n",
              "      <td>210</td>\n",
              "      <td>1.9</td>\n",
              "      <td>137</td>\n",
              "      <td>Male</td>\n",
              "      <td>False</td>\n",
              "      <td>True</td>\n",
              "    </tr>\n",
              "    <tr>\n",
              "      <th>4</th>\n",
              "      <td>65</td>\n",
              "      <td>True</td>\n",
              "      <td>160</td>\n",
              "      <td>True</td>\n",
              "      <td>20</td>\n",
              "      <td>False</td>\n",
              "      <td>327</td>\n",
              "      <td>2.7</td>\n",
              "      <td>116</td>\n",
              "      <td>Female</td>\n",
              "      <td>False</td>\n",
              "      <td>True</td>\n",
              "    </tr>\n",
              "    <tr>\n",
              "      <th>...</th>\n",
              "      <td>...</td>\n",
              "      <td>...</td>\n",
              "      <td>...</td>\n",
              "      <td>...</td>\n",
              "      <td>...</td>\n",
              "      <td>...</td>\n",
              "      <td>...</td>\n",
              "      <td>...</td>\n",
              "      <td>...</td>\n",
              "      <td>...</td>\n",
              "      <td>...</td>\n",
              "      <td>...</td>\n",
              "    </tr>\n",
              "    <tr>\n",
              "      <th>294</th>\n",
              "      <td>62</td>\n",
              "      <td>False</td>\n",
              "      <td>61</td>\n",
              "      <td>True</td>\n",
              "      <td>38</td>\n",
              "      <td>True</td>\n",
              "      <td>155</td>\n",
              "      <td>1.1</td>\n",
              "      <td>143</td>\n",
              "      <td>Male</td>\n",
              "      <td>True</td>\n",
              "      <td>False</td>\n",
              "    </tr>\n",
              "    <tr>\n",
              "      <th>295</th>\n",
              "      <td>55</td>\n",
              "      <td>False</td>\n",
              "      <td>1820</td>\n",
              "      <td>False</td>\n",
              "      <td>38</td>\n",
              "      <td>False</td>\n",
              "      <td>270</td>\n",
              "      <td>1.2</td>\n",
              "      <td>139</td>\n",
              "      <td>Female</td>\n",
              "      <td>False</td>\n",
              "      <td>False</td>\n",
              "    </tr>\n",
              "    <tr>\n",
              "      <th>296</th>\n",
              "      <td>45</td>\n",
              "      <td>False</td>\n",
              "      <td>2060</td>\n",
              "      <td>True</td>\n",
              "      <td>60</td>\n",
              "      <td>False</td>\n",
              "      <td>742</td>\n",
              "      <td>0.8</td>\n",
              "      <td>138</td>\n",
              "      <td>Female</td>\n",
              "      <td>False</td>\n",
              "      <td>False</td>\n",
              "    </tr>\n",
              "    <tr>\n",
              "      <th>297</th>\n",
              "      <td>45</td>\n",
              "      <td>False</td>\n",
              "      <td>2413</td>\n",
              "      <td>False</td>\n",
              "      <td>38</td>\n",
              "      <td>False</td>\n",
              "      <td>140</td>\n",
              "      <td>1.4</td>\n",
              "      <td>140</td>\n",
              "      <td>Male</td>\n",
              "      <td>True</td>\n",
              "      <td>False</td>\n",
              "    </tr>\n",
              "    <tr>\n",
              "      <th>298</th>\n",
              "      <td>50</td>\n",
              "      <td>False</td>\n",
              "      <td>196</td>\n",
              "      <td>False</td>\n",
              "      <td>45</td>\n",
              "      <td>False</td>\n",
              "      <td>395</td>\n",
              "      <td>1.6</td>\n",
              "      <td>136</td>\n",
              "      <td>Male</td>\n",
              "      <td>True</td>\n",
              "      <td>False</td>\n",
              "    </tr>\n",
              "  </tbody>\n",
              "</table>\n",
              "<p>299 rows × 12 columns</p>\n",
              "</div>\n",
              "      <button class=\"colab-df-convert\" onclick=\"convertToInteractive('df-f6f456a9-a308-480e-baff-b196fffef01f')\"\n",
              "              title=\"Convert this dataframe to an interactive table.\"\n",
              "              style=\"display:none;\">\n",
              "        \n",
              "  <svg xmlns=\"http://www.w3.org/2000/svg\" height=\"24px\"viewBox=\"0 0 24 24\"\n",
              "       width=\"24px\">\n",
              "    <path d=\"M0 0h24v24H0V0z\" fill=\"none\"/>\n",
              "    <path d=\"M18.56 5.44l.94 2.06.94-2.06 2.06-.94-2.06-.94-.94-2.06-.94 2.06-2.06.94zm-11 1L8.5 8.5l.94-2.06 2.06-.94-2.06-.94L8.5 2.5l-.94 2.06-2.06.94zm10 10l.94 2.06.94-2.06 2.06-.94-2.06-.94-.94-2.06-.94 2.06-2.06.94z\"/><path d=\"M17.41 7.96l-1.37-1.37c-.4-.4-.92-.59-1.43-.59-.52 0-1.04.2-1.43.59L10.3 9.45l-7.72 7.72c-.78.78-.78 2.05 0 2.83L4 21.41c.39.39.9.59 1.41.59.51 0 1.02-.2 1.41-.59l7.78-7.78 2.81-2.81c.8-.78.8-2.07 0-2.86zM5.41 20L4 18.59l7.72-7.72 1.47 1.35L5.41 20z\"/>\n",
              "  </svg>\n",
              "      </button>\n",
              "      \n",
              "  <style>\n",
              "    .colab-df-container {\n",
              "      display:flex;\n",
              "      flex-wrap:wrap;\n",
              "      gap: 12px;\n",
              "    }\n",
              "\n",
              "    .colab-df-convert {\n",
              "      background-color: #E8F0FE;\n",
              "      border: none;\n",
              "      border-radius: 50%;\n",
              "      cursor: pointer;\n",
              "      display: none;\n",
              "      fill: #1967D2;\n",
              "      height: 32px;\n",
              "      padding: 0 0 0 0;\n",
              "      width: 32px;\n",
              "    }\n",
              "\n",
              "    .colab-df-convert:hover {\n",
              "      background-color: #E2EBFA;\n",
              "      box-shadow: 0px 1px 2px rgba(60, 64, 67, 0.3), 0px 1px 3px 1px rgba(60, 64, 67, 0.15);\n",
              "      fill: #174EA6;\n",
              "    }\n",
              "\n",
              "    [theme=dark] .colab-df-convert {\n",
              "      background-color: #3B4455;\n",
              "      fill: #D2E3FC;\n",
              "    }\n",
              "\n",
              "    [theme=dark] .colab-df-convert:hover {\n",
              "      background-color: #434B5C;\n",
              "      box-shadow: 0px 1px 3px 1px rgba(0, 0, 0, 0.15);\n",
              "      filter: drop-shadow(0px 1px 2px rgba(0, 0, 0, 0.3));\n",
              "      fill: #FFFFFF;\n",
              "    }\n",
              "  </style>\n",
              "\n",
              "      <script>\n",
              "        const buttonEl =\n",
              "          document.querySelector('#df-f6f456a9-a308-480e-baff-b196fffef01f button.colab-df-convert');\n",
              "        buttonEl.style.display =\n",
              "          google.colab.kernel.accessAllowed ? 'block' : 'none';\n",
              "\n",
              "        async function convertToInteractive(key) {\n",
              "          const element = document.querySelector('#df-f6f456a9-a308-480e-baff-b196fffef01f');\n",
              "          const dataTable =\n",
              "            await google.colab.kernel.invokeFunction('convertToInteractive',\n",
              "                                                     [key], {});\n",
              "          if (!dataTable) return;\n",
              "\n",
              "          const docLinkHtml = 'Like what you see? Visit the ' +\n",
              "            '<a target=\"_blank\" href=https://colab.research.google.com/notebooks/data_table.ipynb>data table notebook</a>'\n",
              "            + ' to learn more about interactive tables.';\n",
              "          element.innerHTML = '';\n",
              "          dataTable['output_type'] = 'display_data';\n",
              "          await google.colab.output.renderOutput(dataTable, element);\n",
              "          const docLink = document.createElement('div');\n",
              "          docLink.innerHTML = docLinkHtml;\n",
              "          element.appendChild(docLink);\n",
              "        }\n",
              "      </script>\n",
              "    </div>\n",
              "  </div>\n",
              "  "
            ]
          },
          "metadata": {},
          "execution_count": 9
        }
      ]
    },
    {
      "cell_type": "code",
      "source": [
        "## checking the null values in dataframe\n",
        "df.isna().sum()"
      ],
      "metadata": {
        "colab": {
          "base_uri": "https://localhost:8080/"
        },
        "id": "z8zd7bwgtHtc",
        "outputId": "d7e01ac5-92ef-4ead-afe9-fd1ae71cce8b"
      },
      "execution_count": 10,
      "outputs": [
        {
          "output_type": "execute_result",
          "data": {
            "text/plain": [
              "age                         0\n",
              "anaemia                     0\n",
              "creatinine_phosphokinase    0\n",
              "diabetes                    0\n",
              "ejection_fraction           0\n",
              "high_blood_pressure         0\n",
              "platelets                   0\n",
              "serum_creatinine            0\n",
              "serum_sodium                0\n",
              "sex                         0\n",
              "smoking                     0\n",
              "patient_dead                0\n",
              "dtype: int64"
            ]
          },
          "metadata": {},
          "execution_count": 10
        }
      ]
    },
    {
      "cell_type": "code",
      "source": [
        "df.info()"
      ],
      "metadata": {
        "colab": {
          "base_uri": "https://localhost:8080/"
        },
        "id": "0tSM7ko2tYg5",
        "outputId": "c43f6fec-a9e5-4350-84ec-396f82aad24a"
      },
      "execution_count": 11,
      "outputs": [
        {
          "output_type": "stream",
          "name": "stdout",
          "text": [
            "<class 'pandas.core.frame.DataFrame'>\n",
            "RangeIndex: 299 entries, 0 to 298\n",
            "Data columns (total 12 columns):\n",
            " #   Column                    Non-Null Count  Dtype  \n",
            "---  ------                    --------------  -----  \n",
            " 0   age                       299 non-null    int64  \n",
            " 1   anaemia                   299 non-null    bool   \n",
            " 2   creatinine_phosphokinase  299 non-null    int64  \n",
            " 3   diabetes                  299 non-null    bool   \n",
            " 4   ejection_fraction         299 non-null    int64  \n",
            " 5   high_blood_pressure       299 non-null    bool   \n",
            " 6   platelets                 299 non-null    int64  \n",
            " 7   serum_creatinine          299 non-null    float64\n",
            " 8   serum_sodium              299 non-null    int64  \n",
            " 9   sex                       299 non-null    object \n",
            " 10  smoking                   299 non-null    bool   \n",
            " 11  patient_dead              299 non-null    bool   \n",
            "dtypes: bool(5), float64(1), int64(5), object(1)\n",
            "memory usage: 17.9+ KB\n"
          ]
        }
      ]
    },
    {
      "cell_type": "code",
      "source": [
        "df.describe()"
      ],
      "metadata": {
        "colab": {
          "base_uri": "https://localhost:8080/",
          "height": 300
        },
        "id": "OjhfvTGptemq",
        "outputId": "044fe142-c918-493e-bcdf-ed3d6423c780"
      },
      "execution_count": 12,
      "outputs": [
        {
          "output_type": "execute_result",
          "data": {
            "text/plain": [
              "              age  creatinine_phosphokinase  ejection_fraction   platelets  \\\n",
              "count  299.000000                299.000000         299.000000  299.000000   \n",
              "mean    60.829431                581.839465          38.083612  263.327759   \n",
              "std     11.894997                970.287881          11.834841   97.805105   \n",
              "min     40.000000                 23.000000          14.000000   25.000000   \n",
              "25%     51.000000                116.500000          30.000000  212.500000   \n",
              "50%     60.000000                250.000000          38.000000  262.000000   \n",
              "75%     70.000000                582.000000          45.000000  303.500000   \n",
              "max     95.000000               7861.000000          80.000000  850.000000   \n",
              "\n",
              "       serum_creatinine  serum_sodium  \n",
              "count         299.00000    299.000000  \n",
              "mean            1.39388    136.625418  \n",
              "std             1.03451      4.412477  \n",
              "min             0.50000    113.000000  \n",
              "25%             0.90000    134.000000  \n",
              "50%             1.10000    137.000000  \n",
              "75%             1.40000    140.000000  \n",
              "max             9.40000    148.000000  "
            ],
            "text/html": [
              "\n",
              "  <div id=\"df-cc029dfd-711f-4389-9f93-51e4ed52d8ba\">\n",
              "    <div class=\"colab-df-container\">\n",
              "      <div>\n",
              "<style scoped>\n",
              "    .dataframe tbody tr th:only-of-type {\n",
              "        vertical-align: middle;\n",
              "    }\n",
              "\n",
              "    .dataframe tbody tr th {\n",
              "        vertical-align: top;\n",
              "    }\n",
              "\n",
              "    .dataframe thead th {\n",
              "        text-align: right;\n",
              "    }\n",
              "</style>\n",
              "<table border=\"1\" class=\"dataframe\">\n",
              "  <thead>\n",
              "    <tr style=\"text-align: right;\">\n",
              "      <th></th>\n",
              "      <th>age</th>\n",
              "      <th>creatinine_phosphokinase</th>\n",
              "      <th>ejection_fraction</th>\n",
              "      <th>platelets</th>\n",
              "      <th>serum_creatinine</th>\n",
              "      <th>serum_sodium</th>\n",
              "    </tr>\n",
              "  </thead>\n",
              "  <tbody>\n",
              "    <tr>\n",
              "      <th>count</th>\n",
              "      <td>299.000000</td>\n",
              "      <td>299.000000</td>\n",
              "      <td>299.000000</td>\n",
              "      <td>299.000000</td>\n",
              "      <td>299.00000</td>\n",
              "      <td>299.000000</td>\n",
              "    </tr>\n",
              "    <tr>\n",
              "      <th>mean</th>\n",
              "      <td>60.829431</td>\n",
              "      <td>581.839465</td>\n",
              "      <td>38.083612</td>\n",
              "      <td>263.327759</td>\n",
              "      <td>1.39388</td>\n",
              "      <td>136.625418</td>\n",
              "    </tr>\n",
              "    <tr>\n",
              "      <th>std</th>\n",
              "      <td>11.894997</td>\n",
              "      <td>970.287881</td>\n",
              "      <td>11.834841</td>\n",
              "      <td>97.805105</td>\n",
              "      <td>1.03451</td>\n",
              "      <td>4.412477</td>\n",
              "    </tr>\n",
              "    <tr>\n",
              "      <th>min</th>\n",
              "      <td>40.000000</td>\n",
              "      <td>23.000000</td>\n",
              "      <td>14.000000</td>\n",
              "      <td>25.000000</td>\n",
              "      <td>0.50000</td>\n",
              "      <td>113.000000</td>\n",
              "    </tr>\n",
              "    <tr>\n",
              "      <th>25%</th>\n",
              "      <td>51.000000</td>\n",
              "      <td>116.500000</td>\n",
              "      <td>30.000000</td>\n",
              "      <td>212.500000</td>\n",
              "      <td>0.90000</td>\n",
              "      <td>134.000000</td>\n",
              "    </tr>\n",
              "    <tr>\n",
              "      <th>50%</th>\n",
              "      <td>60.000000</td>\n",
              "      <td>250.000000</td>\n",
              "      <td>38.000000</td>\n",
              "      <td>262.000000</td>\n",
              "      <td>1.10000</td>\n",
              "      <td>137.000000</td>\n",
              "    </tr>\n",
              "    <tr>\n",
              "      <th>75%</th>\n",
              "      <td>70.000000</td>\n",
              "      <td>582.000000</td>\n",
              "      <td>45.000000</td>\n",
              "      <td>303.500000</td>\n",
              "      <td>1.40000</td>\n",
              "      <td>140.000000</td>\n",
              "    </tr>\n",
              "    <tr>\n",
              "      <th>max</th>\n",
              "      <td>95.000000</td>\n",
              "      <td>7861.000000</td>\n",
              "      <td>80.000000</td>\n",
              "      <td>850.000000</td>\n",
              "      <td>9.40000</td>\n",
              "      <td>148.000000</td>\n",
              "    </tr>\n",
              "  </tbody>\n",
              "</table>\n",
              "</div>\n",
              "      <button class=\"colab-df-convert\" onclick=\"convertToInteractive('df-cc029dfd-711f-4389-9f93-51e4ed52d8ba')\"\n",
              "              title=\"Convert this dataframe to an interactive table.\"\n",
              "              style=\"display:none;\">\n",
              "        \n",
              "  <svg xmlns=\"http://www.w3.org/2000/svg\" height=\"24px\"viewBox=\"0 0 24 24\"\n",
              "       width=\"24px\">\n",
              "    <path d=\"M0 0h24v24H0V0z\" fill=\"none\"/>\n",
              "    <path d=\"M18.56 5.44l.94 2.06.94-2.06 2.06-.94-2.06-.94-.94-2.06-.94 2.06-2.06.94zm-11 1L8.5 8.5l.94-2.06 2.06-.94-2.06-.94L8.5 2.5l-.94 2.06-2.06.94zm10 10l.94 2.06.94-2.06 2.06-.94-2.06-.94-.94-2.06-.94 2.06-2.06.94z\"/><path d=\"M17.41 7.96l-1.37-1.37c-.4-.4-.92-.59-1.43-.59-.52 0-1.04.2-1.43.59L10.3 9.45l-7.72 7.72c-.78.78-.78 2.05 0 2.83L4 21.41c.39.39.9.59 1.41.59.51 0 1.02-.2 1.41-.59l7.78-7.78 2.81-2.81c.8-.78.8-2.07 0-2.86zM5.41 20L4 18.59l7.72-7.72 1.47 1.35L5.41 20z\"/>\n",
              "  </svg>\n",
              "      </button>\n",
              "      \n",
              "  <style>\n",
              "    .colab-df-container {\n",
              "      display:flex;\n",
              "      flex-wrap:wrap;\n",
              "      gap: 12px;\n",
              "    }\n",
              "\n",
              "    .colab-df-convert {\n",
              "      background-color: #E8F0FE;\n",
              "      border: none;\n",
              "      border-radius: 50%;\n",
              "      cursor: pointer;\n",
              "      display: none;\n",
              "      fill: #1967D2;\n",
              "      height: 32px;\n",
              "      padding: 0 0 0 0;\n",
              "      width: 32px;\n",
              "    }\n",
              "\n",
              "    .colab-df-convert:hover {\n",
              "      background-color: #E2EBFA;\n",
              "      box-shadow: 0px 1px 2px rgba(60, 64, 67, 0.3), 0px 1px 3px 1px rgba(60, 64, 67, 0.15);\n",
              "      fill: #174EA6;\n",
              "    }\n",
              "\n",
              "    [theme=dark] .colab-df-convert {\n",
              "      background-color: #3B4455;\n",
              "      fill: #D2E3FC;\n",
              "    }\n",
              "\n",
              "    [theme=dark] .colab-df-convert:hover {\n",
              "      background-color: #434B5C;\n",
              "      box-shadow: 0px 1px 3px 1px rgba(0, 0, 0, 0.15);\n",
              "      filter: drop-shadow(0px 1px 2px rgba(0, 0, 0, 0.3));\n",
              "      fill: #FFFFFF;\n",
              "    }\n",
              "  </style>\n",
              "\n",
              "      <script>\n",
              "        const buttonEl =\n",
              "          document.querySelector('#df-cc029dfd-711f-4389-9f93-51e4ed52d8ba button.colab-df-convert');\n",
              "        buttonEl.style.display =\n",
              "          google.colab.kernel.accessAllowed ? 'block' : 'none';\n",
              "\n",
              "        async function convertToInteractive(key) {\n",
              "          const element = document.querySelector('#df-cc029dfd-711f-4389-9f93-51e4ed52d8ba');\n",
              "          const dataTable =\n",
              "            await google.colab.kernel.invokeFunction('convertToInteractive',\n",
              "                                                     [key], {});\n",
              "          if (!dataTable) return;\n",
              "\n",
              "          const docLinkHtml = 'Like what you see? Visit the ' +\n",
              "            '<a target=\"_blank\" href=https://colab.research.google.com/notebooks/data_table.ipynb>data table notebook</a>'\n",
              "            + ' to learn more about interactive tables.';\n",
              "          element.innerHTML = '';\n",
              "          dataTable['output_type'] = 'display_data';\n",
              "          await google.colab.output.renderOutput(dataTable, element);\n",
              "          const docLink = document.createElement('div');\n",
              "          docLink.innerHTML = docLinkHtml;\n",
              "          element.appendChild(docLink);\n",
              "        }\n",
              "      </script>\n",
              "    </div>\n",
              "  </div>\n",
              "  "
            ]
          },
          "metadata": {},
          "execution_count": 12
        }
      ]
    },
    {
      "cell_type": "code",
      "source": [
        "## checking the column names of the dataframe\n",
        "df.columns"
      ],
      "metadata": {
        "colab": {
          "base_uri": "https://localhost:8080/"
        },
        "id": "N1M9bZSwtkFH",
        "outputId": "d9e58cca-99cb-440a-827a-09e08f84afa7"
      },
      "execution_count": 13,
      "outputs": [
        {
          "output_type": "execute_result",
          "data": {
            "text/plain": [
              "Index(['age', 'anaemia', 'creatinine_phosphokinase', 'diabetes',\n",
              "       'ejection_fraction', 'high_blood_pressure', 'platelets',\n",
              "       'serum_creatinine', 'serum_sodium', 'sex', 'smoking', 'patient_dead'],\n",
              "      dtype='object')"
            ]
          },
          "metadata": {},
          "execution_count": 13
        }
      ]
    },
    {
      "cell_type": "markdown",
      "source": [
        "#####All other numeric value records found okay, but the maximum value of Creatinine Phosphokinase (CPK) measured is 7861, that's too high for a normal person. The maximum value of CKP found in a heart failure patient was around 600 micrograms per liter.\n",
        "#####The normal value of CPK ranges from 10 to 120 micrograms per liter, but around 36 patients has CPK level more than 1000 micrograms per liter in our observation. Since, we are not sure about the source of error or that the recorded data is correct or not. This error and huge difference in value might be due to the different measurement units. So let's drop that column and not include in our analysis."
      ],
      "metadata": {
        "id": "gKzM-akXBdvV"
      }
    },
    {
      "cell_type": "code",
      "source": [
        "#to drop creatinine_phosphokinase column\n",
        "df.drop(columns=['creatinine_phosphokinase'],inplace=True, axis = 1, errors ='ignore')"
      ],
      "metadata": {
        "id": "MwPDq1UWBtPC"
      },
      "execution_count": 14,
      "outputs": []
    },
    {
      "cell_type": "code",
      "source": [
        "df.columns"
      ],
      "metadata": {
        "colab": {
          "base_uri": "https://localhost:8080/"
        },
        "id": "a_QECz9VCasb",
        "outputId": "d38ece15-a8a8-486e-c415-9de5e5c1dbba"
      },
      "execution_count": 15,
      "outputs": [
        {
          "output_type": "execute_result",
          "data": {
            "text/plain": [
              "Index(['age', 'anaemia', 'diabetes', 'ejection_fraction',\n",
              "       'high_blood_pressure', 'platelets', 'serum_creatinine', 'serum_sodium',\n",
              "       'sex', 'smoking', 'patient_dead'],\n",
              "      dtype='object')"
            ]
          },
          "metadata": {},
          "execution_count": 15
        }
      ]
    },
    {
      "cell_type": "code",
      "source": [
        "#to save the html table as pandas data frame \n",
        "column_details_df = pd.read_html(\"https://bmcmedinformdecismak.biomedcentral.com/articles/10.1186/s12911-020-1023-5/tables/1 \")[0]\n",
        "column_details_df"
      ],
      "metadata": {
        "colab": {
          "base_uri": "https://localhost:8080/",
          "height": 520
        },
        "id": "kCVPFOwBCkcO",
        "outputId": "e5b8fbda-0075-4ca1-c91d-9b73d2bed2f1"
      },
      "execution_count": 16,
      "outputs": [
        {
          "output_type": "execute_result",
          "data": {
            "text/plain": [
              "                     Feature                                      Explanation  \\\n",
              "0                        Age                               Age of the patient   \n",
              "1                    Anaemia        Decrease of red blood cells or hemoglobin   \n",
              "2        High blood pressure                    If a patient has hypertension   \n",
              "3   Creatinine phosphokinase             Level of the CPK enzyme in the blood   \n",
              "4                      (CPK)                                              NaN   \n",
              "5                   Diabetes                      If the patient has diabetes   \n",
              "6          Ejection fraction                      Percentage of blood leaving   \n",
              "7                        NaN                    the heart at each contraction   \n",
              "8                        Sex                                     Woman or man   \n",
              "9                  Platelets                           Platelets in the blood   \n",
              "10          Serum creatinine                 Level of creatinine in the blood   \n",
              "11              Serum sodium                     Level of sodium in the blood   \n",
              "12                   Smoking                            If the patient smokes   \n",
              "13                      Time                                 Follow-up period   \n",
              "14      (target) death event  If the patient died during the follow-up period   \n",
              "\n",
              "         Measurement                Range  \n",
              "0              Years         [40,..., 95]  \n",
              "1            Boolean                 0, 1  \n",
              "2            Boolean                 0, 1  \n",
              "3              mcg/L       [23,..., 7861]  \n",
              "4                NaN                  NaN  \n",
              "5            Boolean                 0, 1  \n",
              "6         Percentage         [14,..., 80]  \n",
              "7                NaN                  NaN  \n",
              "8             Binary                 0, 1  \n",
              "9   kiloplatelets/mL  [25.01,..., 850.00]  \n",
              "10             mg/dL     [0.50,..., 9.40]  \n",
              "11             mEq/L       [114,..., 148]  \n",
              "12           Boolean                 0, 1  \n",
              "13              Days          [4,...,285]  \n",
              "14           Boolean                 0, 1  "
            ],
            "text/html": [
              "\n",
              "  <div id=\"df-ccb17b91-52e2-4158-98e0-9f462b3ac35d\">\n",
              "    <div class=\"colab-df-container\">\n",
              "      <div>\n",
              "<style scoped>\n",
              "    .dataframe tbody tr th:only-of-type {\n",
              "        vertical-align: middle;\n",
              "    }\n",
              "\n",
              "    .dataframe tbody tr th {\n",
              "        vertical-align: top;\n",
              "    }\n",
              "\n",
              "    .dataframe thead th {\n",
              "        text-align: right;\n",
              "    }\n",
              "</style>\n",
              "<table border=\"1\" class=\"dataframe\">\n",
              "  <thead>\n",
              "    <tr style=\"text-align: right;\">\n",
              "      <th></th>\n",
              "      <th>Feature</th>\n",
              "      <th>Explanation</th>\n",
              "      <th>Measurement</th>\n",
              "      <th>Range</th>\n",
              "    </tr>\n",
              "  </thead>\n",
              "  <tbody>\n",
              "    <tr>\n",
              "      <th>0</th>\n",
              "      <td>Age</td>\n",
              "      <td>Age of the patient</td>\n",
              "      <td>Years</td>\n",
              "      <td>[40,..., 95]</td>\n",
              "    </tr>\n",
              "    <tr>\n",
              "      <th>1</th>\n",
              "      <td>Anaemia</td>\n",
              "      <td>Decrease of red blood cells or hemoglobin</td>\n",
              "      <td>Boolean</td>\n",
              "      <td>0, 1</td>\n",
              "    </tr>\n",
              "    <tr>\n",
              "      <th>2</th>\n",
              "      <td>High blood pressure</td>\n",
              "      <td>If a patient has hypertension</td>\n",
              "      <td>Boolean</td>\n",
              "      <td>0, 1</td>\n",
              "    </tr>\n",
              "    <tr>\n",
              "      <th>3</th>\n",
              "      <td>Creatinine phosphokinase</td>\n",
              "      <td>Level of the CPK enzyme in the blood</td>\n",
              "      <td>mcg/L</td>\n",
              "      <td>[23,..., 7861]</td>\n",
              "    </tr>\n",
              "    <tr>\n",
              "      <th>4</th>\n",
              "      <td>(CPK)</td>\n",
              "      <td>NaN</td>\n",
              "      <td>NaN</td>\n",
              "      <td>NaN</td>\n",
              "    </tr>\n",
              "    <tr>\n",
              "      <th>5</th>\n",
              "      <td>Diabetes</td>\n",
              "      <td>If the patient has diabetes</td>\n",
              "      <td>Boolean</td>\n",
              "      <td>0, 1</td>\n",
              "    </tr>\n",
              "    <tr>\n",
              "      <th>6</th>\n",
              "      <td>Ejection fraction</td>\n",
              "      <td>Percentage of blood leaving</td>\n",
              "      <td>Percentage</td>\n",
              "      <td>[14,..., 80]</td>\n",
              "    </tr>\n",
              "    <tr>\n",
              "      <th>7</th>\n",
              "      <td>NaN</td>\n",
              "      <td>the heart at each contraction</td>\n",
              "      <td>NaN</td>\n",
              "      <td>NaN</td>\n",
              "    </tr>\n",
              "    <tr>\n",
              "      <th>8</th>\n",
              "      <td>Sex</td>\n",
              "      <td>Woman or man</td>\n",
              "      <td>Binary</td>\n",
              "      <td>0, 1</td>\n",
              "    </tr>\n",
              "    <tr>\n",
              "      <th>9</th>\n",
              "      <td>Platelets</td>\n",
              "      <td>Platelets in the blood</td>\n",
              "      <td>kiloplatelets/mL</td>\n",
              "      <td>[25.01,..., 850.00]</td>\n",
              "    </tr>\n",
              "    <tr>\n",
              "      <th>10</th>\n",
              "      <td>Serum creatinine</td>\n",
              "      <td>Level of creatinine in the blood</td>\n",
              "      <td>mg/dL</td>\n",
              "      <td>[0.50,..., 9.40]</td>\n",
              "    </tr>\n",
              "    <tr>\n",
              "      <th>11</th>\n",
              "      <td>Serum sodium</td>\n",
              "      <td>Level of sodium in the blood</td>\n",
              "      <td>mEq/L</td>\n",
              "      <td>[114,..., 148]</td>\n",
              "    </tr>\n",
              "    <tr>\n",
              "      <th>12</th>\n",
              "      <td>Smoking</td>\n",
              "      <td>If the patient smokes</td>\n",
              "      <td>Boolean</td>\n",
              "      <td>0, 1</td>\n",
              "    </tr>\n",
              "    <tr>\n",
              "      <th>13</th>\n",
              "      <td>Time</td>\n",
              "      <td>Follow-up period</td>\n",
              "      <td>Days</td>\n",
              "      <td>[4,...,285]</td>\n",
              "    </tr>\n",
              "    <tr>\n",
              "      <th>14</th>\n",
              "      <td>(target) death event</td>\n",
              "      <td>If the patient died during the follow-up period</td>\n",
              "      <td>Boolean</td>\n",
              "      <td>0, 1</td>\n",
              "    </tr>\n",
              "  </tbody>\n",
              "</table>\n",
              "</div>\n",
              "      <button class=\"colab-df-convert\" onclick=\"convertToInteractive('df-ccb17b91-52e2-4158-98e0-9f462b3ac35d')\"\n",
              "              title=\"Convert this dataframe to an interactive table.\"\n",
              "              style=\"display:none;\">\n",
              "        \n",
              "  <svg xmlns=\"http://www.w3.org/2000/svg\" height=\"24px\"viewBox=\"0 0 24 24\"\n",
              "       width=\"24px\">\n",
              "    <path d=\"M0 0h24v24H0V0z\" fill=\"none\"/>\n",
              "    <path d=\"M18.56 5.44l.94 2.06.94-2.06 2.06-.94-2.06-.94-.94-2.06-.94 2.06-2.06.94zm-11 1L8.5 8.5l.94-2.06 2.06-.94-2.06-.94L8.5 2.5l-.94 2.06-2.06.94zm10 10l.94 2.06.94-2.06 2.06-.94-2.06-.94-.94-2.06-.94 2.06-2.06.94z\"/><path d=\"M17.41 7.96l-1.37-1.37c-.4-.4-.92-.59-1.43-.59-.52 0-1.04.2-1.43.59L10.3 9.45l-7.72 7.72c-.78.78-.78 2.05 0 2.83L4 21.41c.39.39.9.59 1.41.59.51 0 1.02-.2 1.41-.59l7.78-7.78 2.81-2.81c.8-.78.8-2.07 0-2.86zM5.41 20L4 18.59l7.72-7.72 1.47 1.35L5.41 20z\"/>\n",
              "  </svg>\n",
              "      </button>\n",
              "      \n",
              "  <style>\n",
              "    .colab-df-container {\n",
              "      display:flex;\n",
              "      flex-wrap:wrap;\n",
              "      gap: 12px;\n",
              "    }\n",
              "\n",
              "    .colab-df-convert {\n",
              "      background-color: #E8F0FE;\n",
              "      border: none;\n",
              "      border-radius: 50%;\n",
              "      cursor: pointer;\n",
              "      display: none;\n",
              "      fill: #1967D2;\n",
              "      height: 32px;\n",
              "      padding: 0 0 0 0;\n",
              "      width: 32px;\n",
              "    }\n",
              "\n",
              "    .colab-df-convert:hover {\n",
              "      background-color: #E2EBFA;\n",
              "      box-shadow: 0px 1px 2px rgba(60, 64, 67, 0.3), 0px 1px 3px 1px rgba(60, 64, 67, 0.15);\n",
              "      fill: #174EA6;\n",
              "    }\n",
              "\n",
              "    [theme=dark] .colab-df-convert {\n",
              "      background-color: #3B4455;\n",
              "      fill: #D2E3FC;\n",
              "    }\n",
              "\n",
              "    [theme=dark] .colab-df-convert:hover {\n",
              "      background-color: #434B5C;\n",
              "      box-shadow: 0px 1px 3px 1px rgba(0, 0, 0, 0.15);\n",
              "      filter: drop-shadow(0px 1px 2px rgba(0, 0, 0, 0.3));\n",
              "      fill: #FFFFFF;\n",
              "    }\n",
              "  </style>\n",
              "\n",
              "      <script>\n",
              "        const buttonEl =\n",
              "          document.querySelector('#df-ccb17b91-52e2-4158-98e0-9f462b3ac35d button.colab-df-convert');\n",
              "        buttonEl.style.display =\n",
              "          google.colab.kernel.accessAllowed ? 'block' : 'none';\n",
              "\n",
              "        async function convertToInteractive(key) {\n",
              "          const element = document.querySelector('#df-ccb17b91-52e2-4158-98e0-9f462b3ac35d');\n",
              "          const dataTable =\n",
              "            await google.colab.kernel.invokeFunction('convertToInteractive',\n",
              "                                                     [key], {});\n",
              "          if (!dataTable) return;\n",
              "\n",
              "          const docLinkHtml = 'Like what you see? Visit the ' +\n",
              "            '<a target=\"_blank\" href=https://colab.research.google.com/notebooks/data_table.ipynb>data table notebook</a>'\n",
              "            + ' to learn more about interactive tables.';\n",
              "          element.innerHTML = '';\n",
              "          dataTable['output_type'] = 'display_data';\n",
              "          await google.colab.output.renderOutput(dataTable, element);\n",
              "          const docLink = document.createElement('div');\n",
              "          docLink.innerHTML = docLinkHtml;\n",
              "          element.appendChild(docLink);\n",
              "        }\n",
              "      </script>\n",
              "    </div>\n",
              "  </div>\n",
              "  "
            ]
          },
          "metadata": {},
          "execution_count": 16
        }
      ]
    },
    {
      "cell_type": "code",
      "source": [
        "#to drop the unnecessary column\n",
        "column_details_df.drop('Range', axis =1,inplace = True, errors='ignore' )\n",
        "#to drop the unnecessary rows\n",
        "column_details_df.drop([3,4,7,13], axis = 0, inplace =True, errors ='ignore')\n",
        "#to rename the column names\n",
        "column_details_df.columns = ['feature', 'explanation', 'measurement_unit']\n",
        "column_details_df"
      ],
      "metadata": {
        "colab": {
          "base_uri": "https://localhost:8080/",
          "height": 394
        },
        "id": "rWOeC7FADqi2",
        "outputId": "816183d8-35d0-45a4-ea1a-c49f6173fb7d"
      },
      "execution_count": 17,
      "outputs": [
        {
          "output_type": "execute_result",
          "data": {
            "text/plain": [
              "                 feature                                      explanation  \\\n",
              "0                    Age                               Age of the patient   \n",
              "1                Anaemia        Decrease of red blood cells or hemoglobin   \n",
              "2    High blood pressure                    If a patient has hypertension   \n",
              "5               Diabetes                      If the patient has diabetes   \n",
              "6      Ejection fraction                      Percentage of blood leaving   \n",
              "8                    Sex                                     Woman or man   \n",
              "9              Platelets                           Platelets in the blood   \n",
              "10      Serum creatinine                 Level of creatinine in the blood   \n",
              "11          Serum sodium                     Level of sodium in the blood   \n",
              "12               Smoking                            If the patient smokes   \n",
              "14  (target) death event  If the patient died during the follow-up period   \n",
              "\n",
              "    measurement_unit  \n",
              "0              Years  \n",
              "1            Boolean  \n",
              "2            Boolean  \n",
              "5            Boolean  \n",
              "6         Percentage  \n",
              "8             Binary  \n",
              "9   kiloplatelets/mL  \n",
              "10             mg/dL  \n",
              "11             mEq/L  \n",
              "12           Boolean  \n",
              "14           Boolean  "
            ],
            "text/html": [
              "\n",
              "  <div id=\"df-a9ab8fa2-42f9-444b-b647-df9b32a62f2e\">\n",
              "    <div class=\"colab-df-container\">\n",
              "      <div>\n",
              "<style scoped>\n",
              "    .dataframe tbody tr th:only-of-type {\n",
              "        vertical-align: middle;\n",
              "    }\n",
              "\n",
              "    .dataframe tbody tr th {\n",
              "        vertical-align: top;\n",
              "    }\n",
              "\n",
              "    .dataframe thead th {\n",
              "        text-align: right;\n",
              "    }\n",
              "</style>\n",
              "<table border=\"1\" class=\"dataframe\">\n",
              "  <thead>\n",
              "    <tr style=\"text-align: right;\">\n",
              "      <th></th>\n",
              "      <th>feature</th>\n",
              "      <th>explanation</th>\n",
              "      <th>measurement_unit</th>\n",
              "    </tr>\n",
              "  </thead>\n",
              "  <tbody>\n",
              "    <tr>\n",
              "      <th>0</th>\n",
              "      <td>Age</td>\n",
              "      <td>Age of the patient</td>\n",
              "      <td>Years</td>\n",
              "    </tr>\n",
              "    <tr>\n",
              "      <th>1</th>\n",
              "      <td>Anaemia</td>\n",
              "      <td>Decrease of red blood cells or hemoglobin</td>\n",
              "      <td>Boolean</td>\n",
              "    </tr>\n",
              "    <tr>\n",
              "      <th>2</th>\n",
              "      <td>High blood pressure</td>\n",
              "      <td>If a patient has hypertension</td>\n",
              "      <td>Boolean</td>\n",
              "    </tr>\n",
              "    <tr>\n",
              "      <th>5</th>\n",
              "      <td>Diabetes</td>\n",
              "      <td>If the patient has diabetes</td>\n",
              "      <td>Boolean</td>\n",
              "    </tr>\n",
              "    <tr>\n",
              "      <th>6</th>\n",
              "      <td>Ejection fraction</td>\n",
              "      <td>Percentage of blood leaving</td>\n",
              "      <td>Percentage</td>\n",
              "    </tr>\n",
              "    <tr>\n",
              "      <th>8</th>\n",
              "      <td>Sex</td>\n",
              "      <td>Woman or man</td>\n",
              "      <td>Binary</td>\n",
              "    </tr>\n",
              "    <tr>\n",
              "      <th>9</th>\n",
              "      <td>Platelets</td>\n",
              "      <td>Platelets in the blood</td>\n",
              "      <td>kiloplatelets/mL</td>\n",
              "    </tr>\n",
              "    <tr>\n",
              "      <th>10</th>\n",
              "      <td>Serum creatinine</td>\n",
              "      <td>Level of creatinine in the blood</td>\n",
              "      <td>mg/dL</td>\n",
              "    </tr>\n",
              "    <tr>\n",
              "      <th>11</th>\n",
              "      <td>Serum sodium</td>\n",
              "      <td>Level of sodium in the blood</td>\n",
              "      <td>mEq/L</td>\n",
              "    </tr>\n",
              "    <tr>\n",
              "      <th>12</th>\n",
              "      <td>Smoking</td>\n",
              "      <td>If the patient smokes</td>\n",
              "      <td>Boolean</td>\n",
              "    </tr>\n",
              "    <tr>\n",
              "      <th>14</th>\n",
              "      <td>(target) death event</td>\n",
              "      <td>If the patient died during the follow-up period</td>\n",
              "      <td>Boolean</td>\n",
              "    </tr>\n",
              "  </tbody>\n",
              "</table>\n",
              "</div>\n",
              "      <button class=\"colab-df-convert\" onclick=\"convertToInteractive('df-a9ab8fa2-42f9-444b-b647-df9b32a62f2e')\"\n",
              "              title=\"Convert this dataframe to an interactive table.\"\n",
              "              style=\"display:none;\">\n",
              "        \n",
              "  <svg xmlns=\"http://www.w3.org/2000/svg\" height=\"24px\"viewBox=\"0 0 24 24\"\n",
              "       width=\"24px\">\n",
              "    <path d=\"M0 0h24v24H0V0z\" fill=\"none\"/>\n",
              "    <path d=\"M18.56 5.44l.94 2.06.94-2.06 2.06-.94-2.06-.94-.94-2.06-.94 2.06-2.06.94zm-11 1L8.5 8.5l.94-2.06 2.06-.94-2.06-.94L8.5 2.5l-.94 2.06-2.06.94zm10 10l.94 2.06.94-2.06 2.06-.94-2.06-.94-.94-2.06-.94 2.06-2.06.94z\"/><path d=\"M17.41 7.96l-1.37-1.37c-.4-.4-.92-.59-1.43-.59-.52 0-1.04.2-1.43.59L10.3 9.45l-7.72 7.72c-.78.78-.78 2.05 0 2.83L4 21.41c.39.39.9.59 1.41.59.51 0 1.02-.2 1.41-.59l7.78-7.78 2.81-2.81c.8-.78.8-2.07 0-2.86zM5.41 20L4 18.59l7.72-7.72 1.47 1.35L5.41 20z\"/>\n",
              "  </svg>\n",
              "      </button>\n",
              "      \n",
              "  <style>\n",
              "    .colab-df-container {\n",
              "      display:flex;\n",
              "      flex-wrap:wrap;\n",
              "      gap: 12px;\n",
              "    }\n",
              "\n",
              "    .colab-df-convert {\n",
              "      background-color: #E8F0FE;\n",
              "      border: none;\n",
              "      border-radius: 50%;\n",
              "      cursor: pointer;\n",
              "      display: none;\n",
              "      fill: #1967D2;\n",
              "      height: 32px;\n",
              "      padding: 0 0 0 0;\n",
              "      width: 32px;\n",
              "    }\n",
              "\n",
              "    .colab-df-convert:hover {\n",
              "      background-color: #E2EBFA;\n",
              "      box-shadow: 0px 1px 2px rgba(60, 64, 67, 0.3), 0px 1px 3px 1px rgba(60, 64, 67, 0.15);\n",
              "      fill: #174EA6;\n",
              "    }\n",
              "\n",
              "    [theme=dark] .colab-df-convert {\n",
              "      background-color: #3B4455;\n",
              "      fill: #D2E3FC;\n",
              "    }\n",
              "\n",
              "    [theme=dark] .colab-df-convert:hover {\n",
              "      background-color: #434B5C;\n",
              "      box-shadow: 0px 1px 3px 1px rgba(0, 0, 0, 0.15);\n",
              "      filter: drop-shadow(0px 1px 2px rgba(0, 0, 0, 0.3));\n",
              "      fill: #FFFFFF;\n",
              "    }\n",
              "  </style>\n",
              "\n",
              "      <script>\n",
              "        const buttonEl =\n",
              "          document.querySelector('#df-a9ab8fa2-42f9-444b-b647-df9b32a62f2e button.colab-df-convert');\n",
              "        buttonEl.style.display =\n",
              "          google.colab.kernel.accessAllowed ? 'block' : 'none';\n",
              "\n",
              "        async function convertToInteractive(key) {\n",
              "          const element = document.querySelector('#df-a9ab8fa2-42f9-444b-b647-df9b32a62f2e');\n",
              "          const dataTable =\n",
              "            await google.colab.kernel.invokeFunction('convertToInteractive',\n",
              "                                                     [key], {});\n",
              "          if (!dataTable) return;\n",
              "\n",
              "          const docLinkHtml = 'Like what you see? Visit the ' +\n",
              "            '<a target=\"_blank\" href=https://colab.research.google.com/notebooks/data_table.ipynb>data table notebook</a>'\n",
              "            + ' to learn more about interactive tables.';\n",
              "          element.innerHTML = '';\n",
              "          dataTable['output_type'] = 'display_data';\n",
              "          await google.colab.output.renderOutput(dataTable, element);\n",
              "          const docLink = document.createElement('div');\n",
              "          docLink.innerHTML = docLinkHtml;\n",
              "          element.appendChild(docLink);\n",
              "        }\n",
              "      </script>\n",
              "    </div>\n",
              "  </div>\n",
              "  "
            ]
          },
          "metadata": {},
          "execution_count": 17
        }
      ]
    },
    {
      "cell_type": "code",
      "source": [
        "#to rearrange and rename the rows to match the heart_failure_df \n",
        "column_details_df = column_details_df.reindex([0,1,5,6,2,9,10,11,8,12,14])\n",
        "column_details_df.features=column_details_df.columns"
      ],
      "metadata": {
        "colab": {
          "base_uri": "https://localhost:8080/"
        },
        "id": "1_pemEgfDxp8",
        "outputId": "d1895cdf-baf6-4ff4-adf7-677de3d2fff3"
      },
      "execution_count": 18,
      "outputs": [
        {
          "output_type": "stream",
          "name": "stderr",
          "text": [
            "/usr/local/lib/python3.7/dist-packages/ipykernel_launcher.py:3: UserWarning: Pandas doesn't allow columns to be created via a new attribute name - see https://pandas.pydata.org/pandas-docs/stable/indexing.html#attribute-access\n",
            "  This is separate from the ipykernel package so we can avoid doing imports until\n"
          ]
        }
      ]
    },
    {
      "cell_type": "code",
      "source": [
        "#to set the feature column as index for our convenience \n",
        "column_details_df.set_index(['feature'], inplace =True)"
      ],
      "metadata": {
        "id": "VXodrMwTEVyZ"
      },
      "execution_count": 19,
      "outputs": []
    },
    {
      "cell_type": "code",
      "source": [
        "column_details_df"
      ],
      "metadata": {
        "colab": {
          "base_uri": "https://localhost:8080/",
          "height": 426
        },
        "id": "0BJSjN5vFmdw",
        "outputId": "95a26283-0588-474c-cec6-8fb443bd8a06"
      },
      "execution_count": 20,
      "outputs": [
        {
          "output_type": "execute_result",
          "data": {
            "text/plain": [
              "                                                          explanation  \\\n",
              "feature                                                                 \n",
              "Age                                                Age of the patient   \n",
              "Anaemia                     Decrease of red blood cells or hemoglobin   \n",
              "Diabetes                                  If the patient has diabetes   \n",
              "Ejection fraction                         Percentage of blood leaving   \n",
              "High blood pressure                     If a patient has hypertension   \n",
              "Platelets                                      Platelets in the blood   \n",
              "Serum creatinine                     Level of creatinine in the blood   \n",
              "Serum sodium                             Level of sodium in the blood   \n",
              "Sex                                                      Woman or man   \n",
              "Smoking                                         If the patient smokes   \n",
              "(target) death event  If the patient died during the follow-up period   \n",
              "\n",
              "                      measurement_unit  \n",
              "feature                                 \n",
              "Age                              Years  \n",
              "Anaemia                        Boolean  \n",
              "Diabetes                       Boolean  \n",
              "Ejection fraction           Percentage  \n",
              "High blood pressure            Boolean  \n",
              "Platelets             kiloplatelets/mL  \n",
              "Serum creatinine                 mg/dL  \n",
              "Serum sodium                     mEq/L  \n",
              "Sex                             Binary  \n",
              "Smoking                        Boolean  \n",
              "(target) death event           Boolean  "
            ],
            "text/html": [
              "\n",
              "  <div id=\"df-32173f6a-a497-4a99-aab7-f4e006aa73c0\">\n",
              "    <div class=\"colab-df-container\">\n",
              "      <div>\n",
              "<style scoped>\n",
              "    .dataframe tbody tr th:only-of-type {\n",
              "        vertical-align: middle;\n",
              "    }\n",
              "\n",
              "    .dataframe tbody tr th {\n",
              "        vertical-align: top;\n",
              "    }\n",
              "\n",
              "    .dataframe thead th {\n",
              "        text-align: right;\n",
              "    }\n",
              "</style>\n",
              "<table border=\"1\" class=\"dataframe\">\n",
              "  <thead>\n",
              "    <tr style=\"text-align: right;\">\n",
              "      <th></th>\n",
              "      <th>explanation</th>\n",
              "      <th>measurement_unit</th>\n",
              "    </tr>\n",
              "    <tr>\n",
              "      <th>feature</th>\n",
              "      <th></th>\n",
              "      <th></th>\n",
              "    </tr>\n",
              "  </thead>\n",
              "  <tbody>\n",
              "    <tr>\n",
              "      <th>Age</th>\n",
              "      <td>Age of the patient</td>\n",
              "      <td>Years</td>\n",
              "    </tr>\n",
              "    <tr>\n",
              "      <th>Anaemia</th>\n",
              "      <td>Decrease of red blood cells or hemoglobin</td>\n",
              "      <td>Boolean</td>\n",
              "    </tr>\n",
              "    <tr>\n",
              "      <th>Diabetes</th>\n",
              "      <td>If the patient has diabetes</td>\n",
              "      <td>Boolean</td>\n",
              "    </tr>\n",
              "    <tr>\n",
              "      <th>Ejection fraction</th>\n",
              "      <td>Percentage of blood leaving</td>\n",
              "      <td>Percentage</td>\n",
              "    </tr>\n",
              "    <tr>\n",
              "      <th>High blood pressure</th>\n",
              "      <td>If a patient has hypertension</td>\n",
              "      <td>Boolean</td>\n",
              "    </tr>\n",
              "    <tr>\n",
              "      <th>Platelets</th>\n",
              "      <td>Platelets in the blood</td>\n",
              "      <td>kiloplatelets/mL</td>\n",
              "    </tr>\n",
              "    <tr>\n",
              "      <th>Serum creatinine</th>\n",
              "      <td>Level of creatinine in the blood</td>\n",
              "      <td>mg/dL</td>\n",
              "    </tr>\n",
              "    <tr>\n",
              "      <th>Serum sodium</th>\n",
              "      <td>Level of sodium in the blood</td>\n",
              "      <td>mEq/L</td>\n",
              "    </tr>\n",
              "    <tr>\n",
              "      <th>Sex</th>\n",
              "      <td>Woman or man</td>\n",
              "      <td>Binary</td>\n",
              "    </tr>\n",
              "    <tr>\n",
              "      <th>Smoking</th>\n",
              "      <td>If the patient smokes</td>\n",
              "      <td>Boolean</td>\n",
              "    </tr>\n",
              "    <tr>\n",
              "      <th>(target) death event</th>\n",
              "      <td>If the patient died during the follow-up period</td>\n",
              "      <td>Boolean</td>\n",
              "    </tr>\n",
              "  </tbody>\n",
              "</table>\n",
              "</div>\n",
              "      <button class=\"colab-df-convert\" onclick=\"convertToInteractive('df-32173f6a-a497-4a99-aab7-f4e006aa73c0')\"\n",
              "              title=\"Convert this dataframe to an interactive table.\"\n",
              "              style=\"display:none;\">\n",
              "        \n",
              "  <svg xmlns=\"http://www.w3.org/2000/svg\" height=\"24px\"viewBox=\"0 0 24 24\"\n",
              "       width=\"24px\">\n",
              "    <path d=\"M0 0h24v24H0V0z\" fill=\"none\"/>\n",
              "    <path d=\"M18.56 5.44l.94 2.06.94-2.06 2.06-.94-2.06-.94-.94-2.06-.94 2.06-2.06.94zm-11 1L8.5 8.5l.94-2.06 2.06-.94-2.06-.94L8.5 2.5l-.94 2.06-2.06.94zm10 10l.94 2.06.94-2.06 2.06-.94-2.06-.94-.94-2.06-.94 2.06-2.06.94z\"/><path d=\"M17.41 7.96l-1.37-1.37c-.4-.4-.92-.59-1.43-.59-.52 0-1.04.2-1.43.59L10.3 9.45l-7.72 7.72c-.78.78-.78 2.05 0 2.83L4 21.41c.39.39.9.59 1.41.59.51 0 1.02-.2 1.41-.59l7.78-7.78 2.81-2.81c.8-.78.8-2.07 0-2.86zM5.41 20L4 18.59l7.72-7.72 1.47 1.35L5.41 20z\"/>\n",
              "  </svg>\n",
              "      </button>\n",
              "      \n",
              "  <style>\n",
              "    .colab-df-container {\n",
              "      display:flex;\n",
              "      flex-wrap:wrap;\n",
              "      gap: 12px;\n",
              "    }\n",
              "\n",
              "    .colab-df-convert {\n",
              "      background-color: #E8F0FE;\n",
              "      border: none;\n",
              "      border-radius: 50%;\n",
              "      cursor: pointer;\n",
              "      display: none;\n",
              "      fill: #1967D2;\n",
              "      height: 32px;\n",
              "      padding: 0 0 0 0;\n",
              "      width: 32px;\n",
              "    }\n",
              "\n",
              "    .colab-df-convert:hover {\n",
              "      background-color: #E2EBFA;\n",
              "      box-shadow: 0px 1px 2px rgba(60, 64, 67, 0.3), 0px 1px 3px 1px rgba(60, 64, 67, 0.15);\n",
              "      fill: #174EA6;\n",
              "    }\n",
              "\n",
              "    [theme=dark] .colab-df-convert {\n",
              "      background-color: #3B4455;\n",
              "      fill: #D2E3FC;\n",
              "    }\n",
              "\n",
              "    [theme=dark] .colab-df-convert:hover {\n",
              "      background-color: #434B5C;\n",
              "      box-shadow: 0px 1px 3px 1px rgba(0, 0, 0, 0.15);\n",
              "      filter: drop-shadow(0px 1px 2px rgba(0, 0, 0, 0.3));\n",
              "      fill: #FFFFFF;\n",
              "    }\n",
              "  </style>\n",
              "\n",
              "      <script>\n",
              "        const buttonEl =\n",
              "          document.querySelector('#df-32173f6a-a497-4a99-aab7-f4e006aa73c0 button.colab-df-convert');\n",
              "        buttonEl.style.display =\n",
              "          google.colab.kernel.accessAllowed ? 'block' : 'none';\n",
              "\n",
              "        async function convertToInteractive(key) {\n",
              "          const element = document.querySelector('#df-32173f6a-a497-4a99-aab7-f4e006aa73c0');\n",
              "          const dataTable =\n",
              "            await google.colab.kernel.invokeFunction('convertToInteractive',\n",
              "                                                     [key], {});\n",
              "          if (!dataTable) return;\n",
              "\n",
              "          const docLinkHtml = 'Like what you see? Visit the ' +\n",
              "            '<a target=\"_blank\" href=https://colab.research.google.com/notebooks/data_table.ipynb>data table notebook</a>'\n",
              "            + ' to learn more about interactive tables.';\n",
              "          element.innerHTML = '';\n",
              "          dataTable['output_type'] = 'display_data';\n",
              "          await google.colab.output.renderOutput(dataTable, element);\n",
              "          const docLink = document.createElement('div');\n",
              "          docLink.innerHTML = docLinkHtml;\n",
              "          element.appendChild(docLink);\n",
              "        }\n",
              "      </script>\n",
              "    </div>\n",
              "  </div>\n",
              "  "
            ]
          },
          "metadata": {},
          "execution_count": 20
        }
      ]
    },
    {
      "cell_type": "code",
      "source": [
        "#to change the details in explanation column\n",
        "column_details_df.iloc[1,0]='True, if the patient has Anaemia'\n",
        "column_details_df.iloc[2,0]='True, if the patient has Diabetes'\n",
        "column_details_df.iloc[3,0]= '% of blood leaving the heart at each contraction'\n",
        "column_details_df.iloc[4,0]='True, if the patient has High blood pressure'\n",
        "column_details_df.iloc[5,0]='Amount of platelets in the blood'\n",
        "column_details_df.iloc[8,0]= 'Male or Female'\n",
        "column_details_df.iloc[9,0]='True, if the patient smokes'\n",
        "column_details_df.iloc[10,0]='True, if the patient died during the follow-up period'"
      ],
      "metadata": {
        "id": "HJTZwgZqFYgl"
      },
      "execution_count": 21,
      "outputs": []
    },
    {
      "cell_type": "code",
      "source": [
        "column_details_df"
      ],
      "metadata": {
        "colab": {
          "base_uri": "https://localhost:8080/",
          "height": 426
        },
        "id": "kZgahxtfGIJv",
        "outputId": "fcc89330-f429-46e5-862e-820afda3a637"
      },
      "execution_count": 22,
      "outputs": [
        {
          "output_type": "execute_result",
          "data": {
            "text/plain": [
              "                                                            explanation  \\\n",
              "feature                                                                   \n",
              "Age                                                  Age of the patient   \n",
              "Anaemia                                True, if the patient has Anaemia   \n",
              "Diabetes                              True, if the patient has Diabetes   \n",
              "Ejection fraction      % of blood leaving the heart at each contraction   \n",
              "High blood pressure        True, if the patient has High blood pressure   \n",
              "Platelets                              Amount of platelets in the blood   \n",
              "Serum creatinine                       Level of creatinine in the blood   \n",
              "Serum sodium                               Level of sodium in the blood   \n",
              "Sex                                                      Male or Female   \n",
              "Smoking                                     True, if the patient smokes   \n",
              "(target) death event  True, if the patient died during the follow-up...   \n",
              "\n",
              "                      measurement_unit  \n",
              "feature                                 \n",
              "Age                              Years  \n",
              "Anaemia                        Boolean  \n",
              "Diabetes                       Boolean  \n",
              "Ejection fraction           Percentage  \n",
              "High blood pressure            Boolean  \n",
              "Platelets             kiloplatelets/mL  \n",
              "Serum creatinine                 mg/dL  \n",
              "Serum sodium                     mEq/L  \n",
              "Sex                             Binary  \n",
              "Smoking                        Boolean  \n",
              "(target) death event           Boolean  "
            ],
            "text/html": [
              "\n",
              "  <div id=\"df-7a2b090c-9ba6-4657-80df-47a89c263c10\">\n",
              "    <div class=\"colab-df-container\">\n",
              "      <div>\n",
              "<style scoped>\n",
              "    .dataframe tbody tr th:only-of-type {\n",
              "        vertical-align: middle;\n",
              "    }\n",
              "\n",
              "    .dataframe tbody tr th {\n",
              "        vertical-align: top;\n",
              "    }\n",
              "\n",
              "    .dataframe thead th {\n",
              "        text-align: right;\n",
              "    }\n",
              "</style>\n",
              "<table border=\"1\" class=\"dataframe\">\n",
              "  <thead>\n",
              "    <tr style=\"text-align: right;\">\n",
              "      <th></th>\n",
              "      <th>explanation</th>\n",
              "      <th>measurement_unit</th>\n",
              "    </tr>\n",
              "    <tr>\n",
              "      <th>feature</th>\n",
              "      <th></th>\n",
              "      <th></th>\n",
              "    </tr>\n",
              "  </thead>\n",
              "  <tbody>\n",
              "    <tr>\n",
              "      <th>Age</th>\n",
              "      <td>Age of the patient</td>\n",
              "      <td>Years</td>\n",
              "    </tr>\n",
              "    <tr>\n",
              "      <th>Anaemia</th>\n",
              "      <td>True, if the patient has Anaemia</td>\n",
              "      <td>Boolean</td>\n",
              "    </tr>\n",
              "    <tr>\n",
              "      <th>Diabetes</th>\n",
              "      <td>True, if the patient has Diabetes</td>\n",
              "      <td>Boolean</td>\n",
              "    </tr>\n",
              "    <tr>\n",
              "      <th>Ejection fraction</th>\n",
              "      <td>% of blood leaving the heart at each contraction</td>\n",
              "      <td>Percentage</td>\n",
              "    </tr>\n",
              "    <tr>\n",
              "      <th>High blood pressure</th>\n",
              "      <td>True, if the patient has High blood pressure</td>\n",
              "      <td>Boolean</td>\n",
              "    </tr>\n",
              "    <tr>\n",
              "      <th>Platelets</th>\n",
              "      <td>Amount of platelets in the blood</td>\n",
              "      <td>kiloplatelets/mL</td>\n",
              "    </tr>\n",
              "    <tr>\n",
              "      <th>Serum creatinine</th>\n",
              "      <td>Level of creatinine in the blood</td>\n",
              "      <td>mg/dL</td>\n",
              "    </tr>\n",
              "    <tr>\n",
              "      <th>Serum sodium</th>\n",
              "      <td>Level of sodium in the blood</td>\n",
              "      <td>mEq/L</td>\n",
              "    </tr>\n",
              "    <tr>\n",
              "      <th>Sex</th>\n",
              "      <td>Male or Female</td>\n",
              "      <td>Binary</td>\n",
              "    </tr>\n",
              "    <tr>\n",
              "      <th>Smoking</th>\n",
              "      <td>True, if the patient smokes</td>\n",
              "      <td>Boolean</td>\n",
              "    </tr>\n",
              "    <tr>\n",
              "      <th>(target) death event</th>\n",
              "      <td>True, if the patient died during the follow-up...</td>\n",
              "      <td>Boolean</td>\n",
              "    </tr>\n",
              "  </tbody>\n",
              "</table>\n",
              "</div>\n",
              "      <button class=\"colab-df-convert\" onclick=\"convertToInteractive('df-7a2b090c-9ba6-4657-80df-47a89c263c10')\"\n",
              "              title=\"Convert this dataframe to an interactive table.\"\n",
              "              style=\"display:none;\">\n",
              "        \n",
              "  <svg xmlns=\"http://www.w3.org/2000/svg\" height=\"24px\"viewBox=\"0 0 24 24\"\n",
              "       width=\"24px\">\n",
              "    <path d=\"M0 0h24v24H0V0z\" fill=\"none\"/>\n",
              "    <path d=\"M18.56 5.44l.94 2.06.94-2.06 2.06-.94-2.06-.94-.94-2.06-.94 2.06-2.06.94zm-11 1L8.5 8.5l.94-2.06 2.06-.94-2.06-.94L8.5 2.5l-.94 2.06-2.06.94zm10 10l.94 2.06.94-2.06 2.06-.94-2.06-.94-.94-2.06-.94 2.06-2.06.94z\"/><path d=\"M17.41 7.96l-1.37-1.37c-.4-.4-.92-.59-1.43-.59-.52 0-1.04.2-1.43.59L10.3 9.45l-7.72 7.72c-.78.78-.78 2.05 0 2.83L4 21.41c.39.39.9.59 1.41.59.51 0 1.02-.2 1.41-.59l7.78-7.78 2.81-2.81c.8-.78.8-2.07 0-2.86zM5.41 20L4 18.59l7.72-7.72 1.47 1.35L5.41 20z\"/>\n",
              "  </svg>\n",
              "      </button>\n",
              "      \n",
              "  <style>\n",
              "    .colab-df-container {\n",
              "      display:flex;\n",
              "      flex-wrap:wrap;\n",
              "      gap: 12px;\n",
              "    }\n",
              "\n",
              "    .colab-df-convert {\n",
              "      background-color: #E8F0FE;\n",
              "      border: none;\n",
              "      border-radius: 50%;\n",
              "      cursor: pointer;\n",
              "      display: none;\n",
              "      fill: #1967D2;\n",
              "      height: 32px;\n",
              "      padding: 0 0 0 0;\n",
              "      width: 32px;\n",
              "    }\n",
              "\n",
              "    .colab-df-convert:hover {\n",
              "      background-color: #E2EBFA;\n",
              "      box-shadow: 0px 1px 2px rgba(60, 64, 67, 0.3), 0px 1px 3px 1px rgba(60, 64, 67, 0.15);\n",
              "      fill: #174EA6;\n",
              "    }\n",
              "\n",
              "    [theme=dark] .colab-df-convert {\n",
              "      background-color: #3B4455;\n",
              "      fill: #D2E3FC;\n",
              "    }\n",
              "\n",
              "    [theme=dark] .colab-df-convert:hover {\n",
              "      background-color: #434B5C;\n",
              "      box-shadow: 0px 1px 3px 1px rgba(0, 0, 0, 0.15);\n",
              "      filter: drop-shadow(0px 1px 2px rgba(0, 0, 0, 0.3));\n",
              "      fill: #FFFFFF;\n",
              "    }\n",
              "  </style>\n",
              "\n",
              "      <script>\n",
              "        const buttonEl =\n",
              "          document.querySelector('#df-7a2b090c-9ba6-4657-80df-47a89c263c10 button.colab-df-convert');\n",
              "        buttonEl.style.display =\n",
              "          google.colab.kernel.accessAllowed ? 'block' : 'none';\n",
              "\n",
              "        async function convertToInteractive(key) {\n",
              "          const element = document.querySelector('#df-7a2b090c-9ba6-4657-80df-47a89c263c10');\n",
              "          const dataTable =\n",
              "            await google.colab.kernel.invokeFunction('convertToInteractive',\n",
              "                                                     [key], {});\n",
              "          if (!dataTable) return;\n",
              "\n",
              "          const docLinkHtml = 'Like what you see? Visit the ' +\n",
              "            '<a target=\"_blank\" href=https://colab.research.google.com/notebooks/data_table.ipynb>data table notebook</a>'\n",
              "            + ' to learn more about interactive tables.';\n",
              "          element.innerHTML = '';\n",
              "          dataTable['output_type'] = 'display_data';\n",
              "          await google.colab.output.renderOutput(dataTable, element);\n",
              "          const docLink = document.createElement('div');\n",
              "          docLink.innerHTML = docLinkHtml;\n",
              "          element.appendChild(docLink);\n",
              "        }\n",
              "      </script>\n",
              "    </div>\n",
              "  </div>\n",
              "  "
            ]
          },
          "metadata": {},
          "execution_count": 22
        }
      ]
    },
    {
      "cell_type": "code",
      "source": [
        "#to change the details in measurement unit column\n",
        "column_details_df.iloc[8,1]='Boolean'\n",
        "column_details_df.iloc[5,0]='kilo-platelets / mcL (microliter)'\n",
        "column_details_df.iloc[6,0]='mg/dL (milligrams per deciliter)'\n",
        "column_details_df.iloc[7,0]='mEq/L (milliequivalents per litre)'\n"
      ],
      "metadata": {
        "id": "xckbRtENskH4"
      },
      "execution_count": 23,
      "outputs": []
    },
    {
      "cell_type": "code",
      "source": [
        "#let's add another column to mention normal values of the attributes \n",
        "column_details_df[\"normal_value\"] = ['None', \n",
        "                                     'None', \n",
        "                                     'None',\n",
        "                                     '55% - 70%',\n",
        "                                     'None', \n",
        "                                     '150 - 400 kilo-platelets / mcL', \n",
        "                                     '0.6 - 1.2 mg/dL', \n",
        "                                     '135 - 145 mEq /L', \n",
        "                                     'None', 'None', 'None'\n",
        "                                    ] "
      ],
      "metadata": {
        "id": "r4P0tuO_1i1K"
      },
      "execution_count": 24,
      "outputs": []
    },
    {
      "cell_type": "code",
      "source": [
        "column_details_df"
      ],
      "metadata": {
        "colab": {
          "base_uri": "https://localhost:8080/",
          "height": 426
        },
        "id": "fBhuYqTS1lwO",
        "outputId": "9a016c5f-525b-49e1-d71d-cf5fa222749d"
      },
      "execution_count": 25,
      "outputs": [
        {
          "output_type": "execute_result",
          "data": {
            "text/plain": [
              "                                                            explanation  \\\n",
              "feature                                                                   \n",
              "Age                                                  Age of the patient   \n",
              "Anaemia                                True, if the patient has Anaemia   \n",
              "Diabetes                              True, if the patient has Diabetes   \n",
              "Ejection fraction      % of blood leaving the heart at each contraction   \n",
              "High blood pressure        True, if the patient has High blood pressure   \n",
              "Platelets                             kilo-platelets / mcL (microliter)   \n",
              "Serum creatinine                       mg/dL (milligrams per deciliter)   \n",
              "Serum sodium                         mEq/L (milliequivalents per litre)   \n",
              "Sex                                                      Male or Female   \n",
              "Smoking                                     True, if the patient smokes   \n",
              "(target) death event  True, if the patient died during the follow-up...   \n",
              "\n",
              "                      measurement_unit                    normal_value  \n",
              "feature                                                                 \n",
              "Age                              Years                            None  \n",
              "Anaemia                        Boolean                            None  \n",
              "Diabetes                       Boolean                            None  \n",
              "Ejection fraction           Percentage                       55% - 70%  \n",
              "High blood pressure            Boolean                            None  \n",
              "Platelets             kiloplatelets/mL  150 - 400 kilo-platelets / mcL  \n",
              "Serum creatinine                 mg/dL                 0.6 - 1.2 mg/dL  \n",
              "Serum sodium                     mEq/L                135 - 145 mEq /L  \n",
              "Sex                            Boolean                            None  \n",
              "Smoking                        Boolean                            None  \n",
              "(target) death event           Boolean                            None  "
            ],
            "text/html": [
              "\n",
              "  <div id=\"df-b1aa3a8c-062a-4135-93ee-674a9f79c064\">\n",
              "    <div class=\"colab-df-container\">\n",
              "      <div>\n",
              "<style scoped>\n",
              "    .dataframe tbody tr th:only-of-type {\n",
              "        vertical-align: middle;\n",
              "    }\n",
              "\n",
              "    .dataframe tbody tr th {\n",
              "        vertical-align: top;\n",
              "    }\n",
              "\n",
              "    .dataframe thead th {\n",
              "        text-align: right;\n",
              "    }\n",
              "</style>\n",
              "<table border=\"1\" class=\"dataframe\">\n",
              "  <thead>\n",
              "    <tr style=\"text-align: right;\">\n",
              "      <th></th>\n",
              "      <th>explanation</th>\n",
              "      <th>measurement_unit</th>\n",
              "      <th>normal_value</th>\n",
              "    </tr>\n",
              "    <tr>\n",
              "      <th>feature</th>\n",
              "      <th></th>\n",
              "      <th></th>\n",
              "      <th></th>\n",
              "    </tr>\n",
              "  </thead>\n",
              "  <tbody>\n",
              "    <tr>\n",
              "      <th>Age</th>\n",
              "      <td>Age of the patient</td>\n",
              "      <td>Years</td>\n",
              "      <td>None</td>\n",
              "    </tr>\n",
              "    <tr>\n",
              "      <th>Anaemia</th>\n",
              "      <td>True, if the patient has Anaemia</td>\n",
              "      <td>Boolean</td>\n",
              "      <td>None</td>\n",
              "    </tr>\n",
              "    <tr>\n",
              "      <th>Diabetes</th>\n",
              "      <td>True, if the patient has Diabetes</td>\n",
              "      <td>Boolean</td>\n",
              "      <td>None</td>\n",
              "    </tr>\n",
              "    <tr>\n",
              "      <th>Ejection fraction</th>\n",
              "      <td>% of blood leaving the heart at each contraction</td>\n",
              "      <td>Percentage</td>\n",
              "      <td>55% - 70%</td>\n",
              "    </tr>\n",
              "    <tr>\n",
              "      <th>High blood pressure</th>\n",
              "      <td>True, if the patient has High blood pressure</td>\n",
              "      <td>Boolean</td>\n",
              "      <td>None</td>\n",
              "    </tr>\n",
              "    <tr>\n",
              "      <th>Platelets</th>\n",
              "      <td>kilo-platelets / mcL (microliter)</td>\n",
              "      <td>kiloplatelets/mL</td>\n",
              "      <td>150 - 400 kilo-platelets / mcL</td>\n",
              "    </tr>\n",
              "    <tr>\n",
              "      <th>Serum creatinine</th>\n",
              "      <td>mg/dL (milligrams per deciliter)</td>\n",
              "      <td>mg/dL</td>\n",
              "      <td>0.6 - 1.2 mg/dL</td>\n",
              "    </tr>\n",
              "    <tr>\n",
              "      <th>Serum sodium</th>\n",
              "      <td>mEq/L (milliequivalents per litre)</td>\n",
              "      <td>mEq/L</td>\n",
              "      <td>135 - 145 mEq /L</td>\n",
              "    </tr>\n",
              "    <tr>\n",
              "      <th>Sex</th>\n",
              "      <td>Male or Female</td>\n",
              "      <td>Boolean</td>\n",
              "      <td>None</td>\n",
              "    </tr>\n",
              "    <tr>\n",
              "      <th>Smoking</th>\n",
              "      <td>True, if the patient smokes</td>\n",
              "      <td>Boolean</td>\n",
              "      <td>None</td>\n",
              "    </tr>\n",
              "    <tr>\n",
              "      <th>(target) death event</th>\n",
              "      <td>True, if the patient died during the follow-up...</td>\n",
              "      <td>Boolean</td>\n",
              "      <td>None</td>\n",
              "    </tr>\n",
              "  </tbody>\n",
              "</table>\n",
              "</div>\n",
              "      <button class=\"colab-df-convert\" onclick=\"convertToInteractive('df-b1aa3a8c-062a-4135-93ee-674a9f79c064')\"\n",
              "              title=\"Convert this dataframe to an interactive table.\"\n",
              "              style=\"display:none;\">\n",
              "        \n",
              "  <svg xmlns=\"http://www.w3.org/2000/svg\" height=\"24px\"viewBox=\"0 0 24 24\"\n",
              "       width=\"24px\">\n",
              "    <path d=\"M0 0h24v24H0V0z\" fill=\"none\"/>\n",
              "    <path d=\"M18.56 5.44l.94 2.06.94-2.06 2.06-.94-2.06-.94-.94-2.06-.94 2.06-2.06.94zm-11 1L8.5 8.5l.94-2.06 2.06-.94-2.06-.94L8.5 2.5l-.94 2.06-2.06.94zm10 10l.94 2.06.94-2.06 2.06-.94-2.06-.94-.94-2.06-.94 2.06-2.06.94z\"/><path d=\"M17.41 7.96l-1.37-1.37c-.4-.4-.92-.59-1.43-.59-.52 0-1.04.2-1.43.59L10.3 9.45l-7.72 7.72c-.78.78-.78 2.05 0 2.83L4 21.41c.39.39.9.59 1.41.59.51 0 1.02-.2 1.41-.59l7.78-7.78 2.81-2.81c.8-.78.8-2.07 0-2.86zM5.41 20L4 18.59l7.72-7.72 1.47 1.35L5.41 20z\"/>\n",
              "  </svg>\n",
              "      </button>\n",
              "      \n",
              "  <style>\n",
              "    .colab-df-container {\n",
              "      display:flex;\n",
              "      flex-wrap:wrap;\n",
              "      gap: 12px;\n",
              "    }\n",
              "\n",
              "    .colab-df-convert {\n",
              "      background-color: #E8F0FE;\n",
              "      border: none;\n",
              "      border-radius: 50%;\n",
              "      cursor: pointer;\n",
              "      display: none;\n",
              "      fill: #1967D2;\n",
              "      height: 32px;\n",
              "      padding: 0 0 0 0;\n",
              "      width: 32px;\n",
              "    }\n",
              "\n",
              "    .colab-df-convert:hover {\n",
              "      background-color: #E2EBFA;\n",
              "      box-shadow: 0px 1px 2px rgba(60, 64, 67, 0.3), 0px 1px 3px 1px rgba(60, 64, 67, 0.15);\n",
              "      fill: #174EA6;\n",
              "    }\n",
              "\n",
              "    [theme=dark] .colab-df-convert {\n",
              "      background-color: #3B4455;\n",
              "      fill: #D2E3FC;\n",
              "    }\n",
              "\n",
              "    [theme=dark] .colab-df-convert:hover {\n",
              "      background-color: #434B5C;\n",
              "      box-shadow: 0px 1px 3px 1px rgba(0, 0, 0, 0.15);\n",
              "      filter: drop-shadow(0px 1px 2px rgba(0, 0, 0, 0.3));\n",
              "      fill: #FFFFFF;\n",
              "    }\n",
              "  </style>\n",
              "\n",
              "      <script>\n",
              "        const buttonEl =\n",
              "          document.querySelector('#df-b1aa3a8c-062a-4135-93ee-674a9f79c064 button.colab-df-convert');\n",
              "        buttonEl.style.display =\n",
              "          google.colab.kernel.accessAllowed ? 'block' : 'none';\n",
              "\n",
              "        async function convertToInteractive(key) {\n",
              "          const element = document.querySelector('#df-b1aa3a8c-062a-4135-93ee-674a9f79c064');\n",
              "          const dataTable =\n",
              "            await google.colab.kernel.invokeFunction('convertToInteractive',\n",
              "                                                     [key], {});\n",
              "          if (!dataTable) return;\n",
              "\n",
              "          const docLinkHtml = 'Like what you see? Visit the ' +\n",
              "            '<a target=\"_blank\" href=https://colab.research.google.com/notebooks/data_table.ipynb>data table notebook</a>'\n",
              "            + ' to learn more about interactive tables.';\n",
              "          element.innerHTML = '';\n",
              "          dataTable['output_type'] = 'display_data';\n",
              "          await google.colab.output.renderOutput(dataTable, element);\n",
              "          const docLink = document.createElement('div');\n",
              "          docLink.innerHTML = docLinkHtml;\n",
              "          element.appendChild(docLink);\n",
              "        }\n",
              "      </script>\n",
              "    </div>\n",
              "  </div>\n",
              "  "
            ]
          },
          "metadata": {},
          "execution_count": 25
        }
      ]
    },
    {
      "cell_type": "markdown",
      "source": [
        "## Datasets- Cleaned and Prepared"
      ],
      "metadata": {
        "id": "8FLAfxmnvvBN"
      }
    },
    {
      "cell_type": "markdown",
      "source": [
        "### Number of Males and Females Patients"
      ],
      "metadata": {
        "id": "-UGXHAslwAMA"
      }
    },
    {
      "cell_type": "code",
      "source": [
        "df['sex'].value_counts()"
      ],
      "metadata": {
        "colab": {
          "base_uri": "https://localhost:8080/"
        },
        "id": "vNopYXFDt1zD",
        "outputId": "9c365763-9587-4aa5-c7d7-1a5759b822e7"
      },
      "execution_count": 26,
      "outputs": [
        {
          "output_type": "execute_result",
          "data": {
            "text/plain": [
              "Male      194\n",
              "Female    105\n",
              "Name: sex, dtype: int64"
            ]
          },
          "metadata": {},
          "execution_count": 26
        }
      ]
    },
    {
      "cell_type": "markdown",
      "source": [
        "### Number of Patients with Anaemia"
      ],
      "metadata": {
        "id": "JIYPFDXe2CRG"
      }
    },
    {
      "cell_type": "code",
      "source": [
        "df['anaemia'].value_counts()"
      ],
      "metadata": {
        "colab": {
          "base_uri": "https://localhost:8080/"
        },
        "id": "h-qlMyKo1_RA",
        "outputId": "840d3a7a-1c28-4ef1-a3cb-d5d71eaf4f50"
      },
      "execution_count": 27,
      "outputs": [
        {
          "output_type": "execute_result",
          "data": {
            "text/plain": [
              "False    170\n",
              "True     129\n",
              "Name: anaemia, dtype: int64"
            ]
          },
          "metadata": {},
          "execution_count": 27
        }
      ]
    },
    {
      "cell_type": "markdown",
      "source": [
        "### Number of Patients with Diabetes"
      ],
      "metadata": {
        "id": "a25U4UME258Y"
      }
    },
    {
      "cell_type": "code",
      "source": [
        "df['diabetes'].value_counts()"
      ],
      "metadata": {
        "colab": {
          "base_uri": "https://localhost:8080/"
        },
        "id": "qnxxQIXo2_Yd",
        "outputId": "473120d7-cb45-4bdd-ac19-1071baf2e972"
      },
      "execution_count": 28,
      "outputs": [
        {
          "output_type": "execute_result",
          "data": {
            "text/plain": [
              "False    174\n",
              "True     125\n",
              "Name: diabetes, dtype: int64"
            ]
          },
          "metadata": {},
          "execution_count": 28
        }
      ]
    },
    {
      "cell_type": "markdown",
      "source": [
        "### Number of Patients with High Blood Pressure"
      ],
      "metadata": {
        "id": "ar8vI6Ft3NAu"
      }
    },
    {
      "cell_type": "code",
      "source": [
        "df.columns"
      ],
      "metadata": {
        "colab": {
          "base_uri": "https://localhost:8080/"
        },
        "id": "AjGg01Dd3Xg1",
        "outputId": "71e99cc2-2e46-4fcf-dcc5-3e1d8cc47a38"
      },
      "execution_count": 29,
      "outputs": [
        {
          "output_type": "execute_result",
          "data": {
            "text/plain": [
              "Index(['age', 'anaemia', 'diabetes', 'ejection_fraction',\n",
              "       'high_blood_pressure', 'platelets', 'serum_creatinine', 'serum_sodium',\n",
              "       'sex', 'smoking', 'patient_dead'],\n",
              "      dtype='object')"
            ]
          },
          "metadata": {},
          "execution_count": 29
        }
      ]
    },
    {
      "cell_type": "code",
      "source": [
        "df['high_blood_pressure'].value_counts()"
      ],
      "metadata": {
        "colab": {
          "base_uri": "https://localhost:8080/"
        },
        "id": "6OX5ck9y3jJD",
        "outputId": "8cfee035-2566-407a-88d8-f906fda99ebf"
      },
      "execution_count": 30,
      "outputs": [
        {
          "output_type": "execute_result",
          "data": {
            "text/plain": [
              "False    194\n",
              "True     105\n",
              "Name: high_blood_pressure, dtype: int64"
            ]
          },
          "metadata": {},
          "execution_count": 30
        }
      ]
    },
    {
      "cell_type": "markdown",
      "source": [
        "### Number of Patients with Smoking Habits"
      ],
      "metadata": {
        "id": "ljCUbQWa3voL"
      }
    },
    {
      "cell_type": "code",
      "source": [
        "df['smoking'].value_counts()"
      ],
      "metadata": {
        "colab": {
          "base_uri": "https://localhost:8080/"
        },
        "id": "4spxCRCZ3ukX",
        "outputId": "5c3f0092-19fe-4d93-b5b5-3970f06f3fff"
      },
      "execution_count": 31,
      "outputs": [
        {
          "output_type": "execute_result",
          "data": {
            "text/plain": [
              "False    203\n",
              "True      96\n",
              "Name: smoking, dtype: int64"
            ]
          },
          "metadata": {},
          "execution_count": 31
        }
      ]
    },
    {
      "cell_type": "markdown",
      "source": [
        "### Number of Patients died during Follow up period"
      ],
      "metadata": {
        "id": "gqySBgo14CUr"
      }
    },
    {
      "cell_type": "code",
      "source": [
        "df.groupby(['patient_dead', 'sex']).size().reset_index().pivot(columns= 'patient_dead',index = 'sex',values=0)"
      ],
      "metadata": {
        "colab": {
          "base_uri": "https://localhost:8080/",
          "height": 143
        },
        "id": "1GBDR1E94Jcb",
        "outputId": "98296a0b-2c76-4289-c232-5f844329cae4"
      },
      "execution_count": 32,
      "outputs": [
        {
          "output_type": "execute_result",
          "data": {
            "text/plain": [
              "patient_dead  False  True\n",
              "sex                      \n",
              "Female           71    34\n",
              "Male            132    62"
            ],
            "text/html": [
              "\n",
              "  <div id=\"df-cd121b6f-fe0d-45f3-a903-4cf8e064cdc5\">\n",
              "    <div class=\"colab-df-container\">\n",
              "      <div>\n",
              "<style scoped>\n",
              "    .dataframe tbody tr th:only-of-type {\n",
              "        vertical-align: middle;\n",
              "    }\n",
              "\n",
              "    .dataframe tbody tr th {\n",
              "        vertical-align: top;\n",
              "    }\n",
              "\n",
              "    .dataframe thead th {\n",
              "        text-align: right;\n",
              "    }\n",
              "</style>\n",
              "<table border=\"1\" class=\"dataframe\">\n",
              "  <thead>\n",
              "    <tr style=\"text-align: right;\">\n",
              "      <th>patient_dead</th>\n",
              "      <th>False</th>\n",
              "      <th>True</th>\n",
              "    </tr>\n",
              "    <tr>\n",
              "      <th>sex</th>\n",
              "      <th></th>\n",
              "      <th></th>\n",
              "    </tr>\n",
              "  </thead>\n",
              "  <tbody>\n",
              "    <tr>\n",
              "      <th>Female</th>\n",
              "      <td>71</td>\n",
              "      <td>34</td>\n",
              "    </tr>\n",
              "    <tr>\n",
              "      <th>Male</th>\n",
              "      <td>132</td>\n",
              "      <td>62</td>\n",
              "    </tr>\n",
              "  </tbody>\n",
              "</table>\n",
              "</div>\n",
              "      <button class=\"colab-df-convert\" onclick=\"convertToInteractive('df-cd121b6f-fe0d-45f3-a903-4cf8e064cdc5')\"\n",
              "              title=\"Convert this dataframe to an interactive table.\"\n",
              "              style=\"display:none;\">\n",
              "        \n",
              "  <svg xmlns=\"http://www.w3.org/2000/svg\" height=\"24px\"viewBox=\"0 0 24 24\"\n",
              "       width=\"24px\">\n",
              "    <path d=\"M0 0h24v24H0V0z\" fill=\"none\"/>\n",
              "    <path d=\"M18.56 5.44l.94 2.06.94-2.06 2.06-.94-2.06-.94-.94-2.06-.94 2.06-2.06.94zm-11 1L8.5 8.5l.94-2.06 2.06-.94-2.06-.94L8.5 2.5l-.94 2.06-2.06.94zm10 10l.94 2.06.94-2.06 2.06-.94-2.06-.94-.94-2.06-.94 2.06-2.06.94z\"/><path d=\"M17.41 7.96l-1.37-1.37c-.4-.4-.92-.59-1.43-.59-.52 0-1.04.2-1.43.59L10.3 9.45l-7.72 7.72c-.78.78-.78 2.05 0 2.83L4 21.41c.39.39.9.59 1.41.59.51 0 1.02-.2 1.41-.59l7.78-7.78 2.81-2.81c.8-.78.8-2.07 0-2.86zM5.41 20L4 18.59l7.72-7.72 1.47 1.35L5.41 20z\"/>\n",
              "  </svg>\n",
              "      </button>\n",
              "      \n",
              "  <style>\n",
              "    .colab-df-container {\n",
              "      display:flex;\n",
              "      flex-wrap:wrap;\n",
              "      gap: 12px;\n",
              "    }\n",
              "\n",
              "    .colab-df-convert {\n",
              "      background-color: #E8F0FE;\n",
              "      border: none;\n",
              "      border-radius: 50%;\n",
              "      cursor: pointer;\n",
              "      display: none;\n",
              "      fill: #1967D2;\n",
              "      height: 32px;\n",
              "      padding: 0 0 0 0;\n",
              "      width: 32px;\n",
              "    }\n",
              "\n",
              "    .colab-df-convert:hover {\n",
              "      background-color: #E2EBFA;\n",
              "      box-shadow: 0px 1px 2px rgba(60, 64, 67, 0.3), 0px 1px 3px 1px rgba(60, 64, 67, 0.15);\n",
              "      fill: #174EA6;\n",
              "    }\n",
              "\n",
              "    [theme=dark] .colab-df-convert {\n",
              "      background-color: #3B4455;\n",
              "      fill: #D2E3FC;\n",
              "    }\n",
              "\n",
              "    [theme=dark] .colab-df-convert:hover {\n",
              "      background-color: #434B5C;\n",
              "      box-shadow: 0px 1px 3px 1px rgba(0, 0, 0, 0.15);\n",
              "      filter: drop-shadow(0px 1px 2px rgba(0, 0, 0, 0.3));\n",
              "      fill: #FFFFFF;\n",
              "    }\n",
              "  </style>\n",
              "\n",
              "      <script>\n",
              "        const buttonEl =\n",
              "          document.querySelector('#df-cd121b6f-fe0d-45f3-a903-4cf8e064cdc5 button.colab-df-convert');\n",
              "        buttonEl.style.display =\n",
              "          google.colab.kernel.accessAllowed ? 'block' : 'none';\n",
              "\n",
              "        async function convertToInteractive(key) {\n",
              "          const element = document.querySelector('#df-cd121b6f-fe0d-45f3-a903-4cf8e064cdc5');\n",
              "          const dataTable =\n",
              "            await google.colab.kernel.invokeFunction('convertToInteractive',\n",
              "                                                     [key], {});\n",
              "          if (!dataTable) return;\n",
              "\n",
              "          const docLinkHtml = 'Like what you see? Visit the ' +\n",
              "            '<a target=\"_blank\" href=https://colab.research.google.com/notebooks/data_table.ipynb>data table notebook</a>'\n",
              "            + ' to learn more about interactive tables.';\n",
              "          element.innerHTML = '';\n",
              "          dataTable['output_type'] = 'display_data';\n",
              "          await google.colab.output.renderOutput(dataTable, element);\n",
              "          const docLink = document.createElement('div');\n",
              "          docLink.innerHTML = docLinkHtml;\n",
              "          element.appendChild(docLink);\n",
              "        }\n",
              "      </script>\n",
              "    </div>\n",
              "  </div>\n",
              "  "
            ]
          },
          "metadata": {},
          "execution_count": 32
        }
      ]
    },
    {
      "cell_type": "markdown",
      "source": [
        "### Number of patients with Abnormal Ejection Fraction"
      ],
      "metadata": {
        "id": "vioL2qwh5Cd7"
      }
    },
    {
      "cell_type": "code",
      "source": [
        "abn_ef=df[(df['ejection_fraction']<55) | (df['ejection_fraction']>70)]\n",
        "len(abn_ef)"
      ],
      "metadata": {
        "colab": {
          "base_uri": "https://localhost:8080/"
        },
        "id": "7fmrOwdx5A2R",
        "outputId": "9e5d9b5f-31d1-464d-bbe3-2039a6909bcc"
      },
      "execution_count": 33,
      "outputs": [
        {
          "output_type": "execute_result",
          "data": {
            "text/plain": [
              "261"
            ]
          },
          "metadata": {},
          "execution_count": 33
        }
      ]
    },
    {
      "cell_type": "markdown",
      "source": [
        "The normal value of Ejection Fraction ranges from 55% to 70%. Here, we found that there are 261 patients with abnormal Ejection Fraction."
      ],
      "metadata": {
        "id": "nUSg-1e67tMb"
      }
    },
    {
      "cell_type": "markdown",
      "source": [
        "### Number of patients with abnormal platelets count"
      ],
      "metadata": {
        "id": "miRyDICw6TlW"
      }
    },
    {
      "cell_type": "code",
      "source": [
        "# to find normal value of platelets count\n",
        "column_details_df.loc['Platelets','normal_value']"
      ],
      "metadata": {
        "colab": {
          "base_uri": "https://localhost:8080/",
          "height": 35
        },
        "id": "gqsOkzw-6Q6N",
        "outputId": "b3ec9b84-5b0e-4799-e2c3-0a0c4b0efeb2"
      },
      "execution_count": 34,
      "outputs": [
        {
          "output_type": "execute_result",
          "data": {
            "text/plain": [
              "'150 - 400 kilo-platelets / mcL'"
            ],
            "application/vnd.google.colaboratory.intrinsic+json": {
              "type": "string"
            }
          },
          "metadata": {},
          "execution_count": 34
        }
      ]
    },
    {
      "cell_type": "code",
      "source": [
        "abn_pc=df[(df['platelets']<150) | (df['platelets']>400)]\n",
        "len(abn_pc)"
      ],
      "metadata": {
        "colab": {
          "base_uri": "https://localhost:8080/"
        },
        "id": "-yihy5eB63Wy",
        "outputId": "f64a8ed1-be58-4f69-ba1b-dd8b9fc64ab0"
      },
      "execution_count": 35,
      "outputs": [
        {
          "output_type": "execute_result",
          "data": {
            "text/plain": [
              "47"
            ]
          },
          "metadata": {},
          "execution_count": 35
        }
      ]
    },
    {
      "cell_type": "markdown",
      "source": [
        "The normal value of Platelets Count ranges from 150 - 400 kilo-platelets / mcL. Here, we found that there are 47 patients with abnormal Platelets Count"
      ],
      "metadata": {
        "id": "a1vkWBqS7bdT"
      }
    },
    {
      "cell_type": "markdown",
      "source": [
        "### Number of Patients with Abnormal Creatinine level in the blood"
      ],
      "metadata": {
        "id": "cgSkDMil7hSS"
      }
    },
    {
      "cell_type": "code",
      "source": [
        "# to find normal value of creatinine level\n",
        "column_details_df.loc['Serum creatinine','normal_value']"
      ],
      "metadata": {
        "colab": {
          "base_uri": "https://localhost:8080/",
          "height": 35
        },
        "id": "gxGf_zwvX7dD",
        "outputId": "effeb680-b8f3-40be-b9a1-6023504c6b7a"
      },
      "execution_count": 36,
      "outputs": [
        {
          "output_type": "execute_result",
          "data": {
            "text/plain": [
              "'0.6 - 1.2 mg/dL'"
            ],
            "application/vnd.google.colaboratory.intrinsic+json": {
              "type": "string"
            }
          },
          "metadata": {},
          "execution_count": 36
        }
      ]
    },
    {
      "cell_type": "code",
      "source": [
        "abn_cl=df[(df['serum_creatinine']<0.6) | (df['serum_creatinine']>1.2)]\n",
        "len(abn_cl)"
      ],
      "metadata": {
        "colab": {
          "base_uri": "https://localhost:8080/"
        },
        "id": "Tj7MUt2PYPNW",
        "outputId": "57dec2b3-f60d-4eed-d683-a4124aecf7de"
      },
      "execution_count": 37,
      "outputs": [
        {
          "output_type": "execute_result",
          "data": {
            "text/plain": [
              "102"
            ]
          },
          "metadata": {},
          "execution_count": 37
        }
      ]
    },
    {
      "cell_type": "markdown",
      "source": [
        "The normal value of Serum creatinine ranges from 0.6 - 1.2 mg/dL. Here, we found that there are 102 patients with abnormal Creatinine level in the blood."
      ],
      "metadata": {
        "id": "wFKlgAmaYqvf"
      }
    },
    {
      "cell_type": "markdown",
      "source": [
        "### Number of Patients with Abnormal Sodium level in the blood"
      ],
      "metadata": {
        "id": "BqjL1UvbYxyi"
      }
    },
    {
      "cell_type": "code",
      "source": [
        "# to find normal value of sodium level\n",
        "column_details_df.loc['Serum sodium','normal_value']"
      ],
      "metadata": {
        "colab": {
          "base_uri": "https://localhost:8080/",
          "height": 35
        },
        "id": "VSGtsB3RYxFj",
        "outputId": "e3b0209b-6721-42d6-8494-6cd2617526a3"
      },
      "execution_count": 38,
      "outputs": [
        {
          "output_type": "execute_result",
          "data": {
            "text/plain": [
              "'135 - 145 mEq /L'"
            ],
            "application/vnd.google.colaboratory.intrinsic+json": {
              "type": "string"
            }
          },
          "metadata": {},
          "execution_count": 38
        }
      ]
    },
    {
      "cell_type": "code",
      "source": [
        "abn_sl=df[(df['serum_sodium']<135) | (df['serum_sodium']>145)]\n",
        "len(abn_sl)"
      ],
      "metadata": {
        "colab": {
          "base_uri": "https://localhost:8080/"
        },
        "id": "rWq66SD9ZCrf",
        "outputId": "06ced3e7-a03b-4d93-eaf6-eeea77fb5c8b"
      },
      "execution_count": 39,
      "outputs": [
        {
          "output_type": "execute_result",
          "data": {
            "text/plain": [
              "85"
            ]
          },
          "metadata": {},
          "execution_count": 39
        }
      ]
    },
    {
      "cell_type": "markdown",
      "source": [
        "The normal value of Sodium level in the blood ranges from 135 - 145 mEq/L. Here, we found that there are 85 patients with abnormal Sodium level in the blood."
      ],
      "metadata": {
        "id": "0bpNxACMZQWg"
      }
    },
    {
      "cell_type": "markdown",
      "source": [
        "#**Exploratory Data Analysis and Visualization**"
      ],
      "metadata": {
        "id": "FJoeK2suZXez"
      }
    },
    {
      "cell_type": "markdown",
      "source": [
        "Let's install and import \"seaborn\" library as \"sns\" and \"matplotlib.pyplot\" module as \"plt\" to perform some visualization operations on our data frame to understand the distribution and relationships of attributes"
      ],
      "metadata": {
        "id": "_iZIc041ZjVN"
      }
    },
    {
      "cell_type": "code",
      "source": [
        "#import seaborn and matplotlib.pyplot \n",
        "import seaborn as sns\n",
        "import matplotlib\n",
        "import matplotlib.pyplot as plt\n",
        "import matplotlib.patches as mpatches\n",
        "%matplotlib inline \n",
        "#set some default style for our graphs\n",
        "sns.set_style('darkgrid')\n",
        "matplotlib.rcParams['font.size'] = 14\n",
        "matplotlib.rcParams['figure.figsize'] = (9, 5)\n",
        "matplotlib.rcParams['figure.facecolor'] = 'white'"
      ],
      "metadata": {
        "id": "BwFma8mhaHPk"
      },
      "execution_count": 41,
      "outputs": []
    },
    {
      "cell_type": "markdown",
      "source": [
        "##Age\n",
        "Let's have a look at the distribution of age of the heart failure patients recorded in our dataset by using \"hist\" function from \"matplotlib.pyplot\" which is used to create histograms."
      ],
      "metadata": {
        "id": "yEKcXgeRaYRZ"
      }
    },
    {
      "cell_type": "code",
      "source": [
        "plt.hist(df.age,bins=np.arange(40,100,5),color='purple')\n",
        "plt.xlabel(\"Age of Patients(Years)\")\n",
        "plt.ylabel(\"Number of Patients\")\n",
        "plt.title(\"Distribution of Age\")"
      ],
      "metadata": {
        "colab": {
          "base_uri": "https://localhost:8080/",
          "height": 379
        },
        "id": "DzJEFnPlaQyU",
        "outputId": "fb99c4e1-c2e3-44b4-8f1e-ee60d2c4aab7"
      },
      "execution_count": 47,
      "outputs": [
        {
          "output_type": "execute_result",
          "data": {
            "text/plain": [
              "Text(0.5, 1.0, 'Distribution of Age')"
            ]
          },
          "metadata": {},
          "execution_count": 47
        },
        {
          "output_type": "display_data",
          "data": {
            "text/plain": [
              "<Figure size 648x360 with 1 Axes>"
            ],
            "image/png": "[encoded data removed]"
          },
          "metadata": {}
        }
      ]
    },
    {
      "cell_type": "markdown",
      "source": [
        "From the above histogram, it's clear that most of the patients falls under 60-65 age group and the next place goes to 50-55 age group"
      ],
      "metadata": {
        "id": "-OKvaFsIcBny"
      }
    },
    {
      "cell_type": "markdown",
      "source": [
        "## Gender"
      ],
      "metadata": {
        "id": "NJ4moCoPcJrI"
      }
    },
    {
      "cell_type": "code",
      "source": [
        "gender_count=df['sex'].value_counts()"
      ],
      "metadata": {
        "id": "ug4fQM82cOAN"
      },
      "execution_count": 48,
      "outputs": []
    },
    {
      "cell_type": "code",
      "source": [
        "plt.figure(figsize=(12, 6))\n",
        "plt.pie(gender_count, labels = gender_count.index, autopct ='%.1f%%', startangle = 90, explode = [0.1, 0], colors = ['lightgreen', 'plum'])\n",
        "plt.title(\"Gender Distribution (Male or Female)\");"
      ],
      "metadata": {
        "colab": {
          "base_uri": "https://localhost:8080/",
          "height": 377
        },
        "id": "frGl0R2-cgf5",
        "outputId": "e9981d5b-91a8-4ac3-bc54-eb28ebc207e9"
      },
      "execution_count": 49,
      "outputs": [
        {
          "output_type": "display_data",
          "data": {
            "text/plain": [
              "<Figure size 864x432 with 1 Axes>"
            ],
            "image/png": "[encoded data removed]"
          },
          "metadata": {}
        }
      ]
    },
    {
      "cell_type": "markdown",
      "source": [
        "## Death"
      ],
      "metadata": {
        "id": "_gGxWMRncwut"
      }
    },
    {
      "cell_type": "code",
      "source": [
        "#count number of patients dead\n",
        "dead_counts = df.patient_dead.value_counts()\n",
        "dead_counts"
      ],
      "metadata": {
        "colab": {
          "base_uri": "https://localhost:8080/"
        },
        "id": "RPtH4022c4H7",
        "outputId": "a4ef60ee-4e3d-4564-90ff-cade570f68bc"
      },
      "execution_count": 51,
      "outputs": [
        {
          "output_type": "execute_result",
          "data": {
            "text/plain": [
              "False    203\n",
              "True      96\n",
              "Name: patient_dead, dtype: int64"
            ]
          },
          "metadata": {},
          "execution_count": 51
        }
      ]
    },
    {
      "cell_type": "code",
      "source": [
        "plt.figure(figsize=(12, 6))\n",
        "plt.pie(dead_counts, labels = ['Alive', 'Dead'] , autopct ='%.1f%%', startangle = 90, explode=[0.1, 0], colors =['blue', 'lightcoral'])\n",
        "plt.title(\"% of Patients Dead & Alive\")"
      ],
      "metadata": {
        "colab": {
          "base_uri": "https://localhost:8080/",
          "height": 394
        },
        "id": "iK0oH2WsdAjg",
        "outputId": "e3348bf3-e8cd-442b-9f5d-c563e77fcb25"
      },
      "execution_count": 52,
      "outputs": [
        {
          "output_type": "execute_result",
          "data": {
            "text/plain": [
              "Text(0.5, 1.0, '% of Patients Dead & Alive')"
            ]
          },
          "metadata": {},
          "execution_count": 52
        },
        {
          "output_type": "display_data",
          "data": {
            "text/plain": [
              "<Figure size 864x432 with 1 Axes>"
            ],
            "image/png": "[encoded data removed]"
          },
          "metadata": {}
        }
      ]
    },
    {
      "cell_type": "markdown",
      "source": [
        "## Death and Gender"
      ],
      "metadata": {
        "id": "J_vPtfoZdfHl"
      }
    },
    {
      "cell_type": "code",
      "source": [
        "sns.countplot(x=df.patient_dead,hue=df.sex,palette=['lightgreen','orange'])\n",
        "plt.title('Dead or Alive')\n",
        "plt.xlabel('Patient Dead')\n",
        "plt.ylabel('Number of Patients')"
      ],
      "metadata": {
        "colab": {
          "base_uri": "https://localhost:8080/",
          "height": 379
        },
        "id": "is-0_XfCdzwZ",
        "outputId": "1625e62d-7748-4461-b548-792b49093fc4"
      },
      "execution_count": 53,
      "outputs": [
        {
          "output_type": "execute_result",
          "data": {
            "text/plain": [
              "Text(0, 0.5, 'Number of Patients')"
            ]
          },
          "metadata": {},
          "execution_count": 53
        },
        {
          "output_type": "display_data",
          "data": {
            "text/plain": [
              "<Figure size 648x360 with 1 Axes>"
            ],
            "image/png": "[encoded data removed]"
          },
          "metadata": {}
        }
      ]
    },
    {
      "cell_type": "markdown",
      "source": [
        "## Diseases"
      ],
      "metadata": {
        "id": "PEq9yrAJedEH"
      }
    },
    {
      "cell_type": "code",
      "source": [
        "#create columns to indicate abnormalities \n",
        "df['abnormal_ef'] = np.where(((df.ejection_fraction >= 55) & (df.ejection_fraction <=70)) , 'Normal', 'Abormal')\n",
        "df['abnormal_platelets'] = np.where(((df.platelets >= 150) & (df.platelets <= 400)) , 'Normal', 'Abnormal')\n",
        "df['abnormal_creatinine'] = np.where(((df.serum_creatinine >= 0.6) & (df.serum_creatinine <= 1.2)), 'Normal','Abnormal')\n",
        "df['abnormal_sodium'] = np.where(((df.serum_sodium >= 135) & (df.serum_sodium <= 145)) , 'Normal', 'Abnormal')"
      ],
      "metadata": {
        "id": "37TTZR0qevHf"
      },
      "execution_count": 54,
      "outputs": []
    },
    {
      "cell_type": "code",
      "source": [
        "fig, axis = plt.subplots(2,4, figsize =(24, 12))\n",
        "#axis(0,0) use this axis for Anaemia\n",
        "axis[0,0].set_title(\"Patients with Anaemia\")\n",
        "sns.countplot(x=df.anaemia, ax=axis[0,0],palette=['mediumpurple','lightgreen'])\n",
        "axis[0,0].set_xlabel(\"\")\n",
        "axis[0,0].set_ylabel(\"Number of Patients\")\n",
        "axis[0,0].set_ylim([0, 220])\n",
        "\n",
        "#axis(0,1) use this for diabetes\n",
        "axis[0,1].set_title(\"Patients with Diabetes\")\n",
        "sns.countplot(x=df.diabetes,ax=axis[0,1],palette=['mediumpurple','lightgreen'])\n",
        "axis[0,1].set_xlabel(\"\")\n",
        "axis[0,1].set_ylabel(\"Number of Patients\")\n",
        "axis[0,1].set_ylim([0,220])\n",
        "\n",
        "#axis(0,2) use this axis for High blood pressure \n",
        "axis[0,2].set_title(\" Patients with High Blood Pressure\")\n",
        "sns.countplot(x = df.high_blood_pressure, ax=axis[0,2], palette=['mediumpurple','lightgreen'])\n",
        "axis[0,2].set_xlabel(\"\")\n",
        "axis[0,2].set_ylabel(\"Number of Patients\")\n",
        "axis[0,2].set_ylim([0, 220])\n",
        "\n",
        "#axis(0,3) use this axis for smoking habit \n",
        "axis[0,3].set_title(\" Patients with Smoking Habit\")\n",
        "sns.countplot(x = df.smoking, ax=axis[0,3], palette=['mediumpurple','lightgreen'])\n",
        "axis[0,3].set_xlabel(\"\")\n",
        "axis[0,3].set_ylabel(\"Number of Patients\")\n",
        "axis[0,3].set_ylim([0, 220])\n",
        "\n",
        "\n",
        "#axis(1,0) use this axis for Ejection Fraction \n",
        "axis[1,0].set_title(\" Patients with Abnormal EF\")\n",
        "sns.countplot(x = df.abnormal_ef.sort_values(ascending =False) , ax=axis[1,0], palette=['mediumpurple','lightgreen'])\n",
        "axis[1,0].set_xlabel(\"\")\n",
        "axis[1,0].set_ylabel(\"Number of Patients\")\n",
        "axis[1,0].set_ylim([0, 270])\n",
        "\n",
        "#axis(1,1) use this axis for Platelets count \n",
        "axis[1,1].set_title(\" Patients with Abnormal Platelets Count\")\n",
        "sns.countplot(x = df.abnormal_platelets.sort_values(ascending =False) , ax=axis[1,1], palette=['mediumpurple','lightgreen'])\n",
        "axis[1,1].set_xlabel(\"\")\n",
        "axis[1,1].set_ylabel(\"Number of Patients\")\n",
        "axis[1,1].set_ylim([0, 270])\n",
        "\n",
        "#axis(1,2) use this axis for Creatinine level \n",
        "axis[1,2].set_title(\" Patients with Abnormal Creatinine level\")\n",
        "sns.countplot(x = df.abnormal_creatinine.sort_values(ascending =False), ax=axis[1,2], palette=['mediumpurple','lightgreen'])\n",
        "axis[1,2].set_xlabel(\"\")\n",
        "axis[1,2].set_ylabel(\"Number of Patients\")\n",
        "axis[1,2].set_ylim([0, 270])\n",
        "\n",
        "#axis(1,3) use this axis for sodium level\n",
        "axis[1,3].set_title(\" Patients with Abnormal Sodium level\")\n",
        "sns.countplot(x = df.abnormal_sodium.sort_values(ascending =False), ax=axis[1,3], palette=['mediumpurple','lightgreen'])\n",
        "axis[1,3].set_xlabel(\"\")\n",
        "axis[1,3].set_ylabel(\"Number of Patients\")\n",
        "axis[1,3].set_ylim([0, 270])\n",
        "\n",
        "#to provide spacing between adjacent plots\n",
        "plt.tight_layout(pad=2);"
      ],
      "metadata": {
        "colab": {
          "base_uri": "https://localhost:8080/",
          "height": 627
        },
        "id": "uRoJ5XdsfysJ",
        "outputId": "8bed3b73-883d-4d24-cf12-2e94a2803c7a"
      },
      "execution_count": 55,
      "outputs": [
        {
          "output_type": "display_data",
          "data": {
            "text/plain": [
              "<Figure size 1728x864 with 8 Axes>"
            ],
            "image/png": "[encoded data removed]"
          },
          "metadata": {}
        }
      ]
    },
    {
      "cell_type": "markdown",
      "source": [
        "As we can clearly identify, that abnormality in Ejection Fraction(EF) is the most common factor among the heart failure patients.\n",
        "Low EF is one of the primary reasons which causes heart failure, that's the reason we have more number of patients with abnormal Ejection Fraction."
      ],
      "metadata": {
        "id": "jEGPE6iximzg"
      }
    },
    {
      "cell_type": "markdown",
      "source": [
        "## Pair wise relationship"
      ],
      "metadata": {
        "id": "51wUObAZizTT"
      }
    },
    {
      "cell_type": "code",
      "source": [
        "#filter columns with numeric value\n",
        "numeric_column = df[['age', 'ejection_fraction', 'platelets', 'serum_creatinine', 'serum_sodium']]"
      ],
      "metadata": {
        "id": "nj9cnYQZi9M2"
      },
      "execution_count": 56,
      "outputs": []
    },
    {
      "cell_type": "code",
      "source": [
        "sns.pairplot(numeric_column);"
      ],
      "metadata": {
        "colab": {
          "base_uri": "https://localhost:8080/",
          "height": 899
        },
        "id": "UknhmbKtjHFw",
        "outputId": "9ac54110-2144-4f0d-b1ef-23426b1d8240"
      },
      "execution_count": 57,
      "outputs": [
        {
          "output_type": "display_data",
          "data": {
            "text/plain": [
              "<Figure size 900x900 with 30 Axes>"
            ],
            "image/png": "[encoded data removed]"
          },
          "metadata": {}
        }
      ]
    },
    {
      "cell_type": "markdown",
      "source": [
        "## Attributes- Distribution"
      ],
      "metadata": {
        "id": "zphAGz2sjak5"
      }
    },
    {
      "cell_type": "markdown",
      "source": [
        "Distribution plot helps us to find whether the variables are normally distributed or skewed."
      ],
      "metadata": {
        "id": "wvk1AC2lkBA5"
      }
    },
    {
      "cell_type": "code",
      "source": [
        "plt.title(\"Distribution of Ejection Fraction\")\n",
        "sns.histplot(df.ejection_fraction, kde = True, color ='green');"
      ],
      "metadata": {
        "colab": {
          "base_uri": "https://localhost:8080/",
          "height": 362
        },
        "id": "YHYfRAuMjfQc",
        "outputId": "a7c99201-3ab9-4717-fa17-0ceeec8396e9"
      },
      "execution_count": 58,
      "outputs": [
        {
          "output_type": "display_data",
          "data": {
            "text/plain": [
              "<Figure size 648x360 with 1 Axes>"
            ],
            "image/png": "[encoded data removed]"
          },
          "metadata": {}
        }
      ]
    },
    {
      "cell_type": "code",
      "source": [
        "plt.title(\"Distribution of Platelets Count\")\n",
        "sns.histplot(df.platelets, kde = True, color ='green');"
      ],
      "metadata": {
        "colab": {
          "base_uri": "https://localhost:8080/",
          "height": 362
        },
        "id": "Z4OFZExlkX0D",
        "outputId": "bb1ea0b2-99e5-4557-e13a-9d25a5170aa6"
      },
      "execution_count": 60,
      "outputs": [
        {
          "output_type": "display_data",
          "data": {
            "text/plain": [
              "<Figure size 648x360 with 1 Axes>"
            ],
            "image/png": "[encoded data removed]"
          },
          "metadata": {}
        }
      ]
    },
    {
      "cell_type": "code",
      "source": [
        "plt.title(\"Distribution of Creatinine Level in the blood\") \n",
        "sns.histplot(df.serum_creatinine, kde = True, bins = 30, color ='green')"
      ],
      "metadata": {
        "colab": {
          "base_uri": "https://localhost:8080/",
          "height": 379
        },
        "id": "GKM4I54sklLQ",
        "outputId": "4c92bdf5-0f80-4c6e-841f-ef4b9bd16fd0"
      },
      "execution_count": 61,
      "outputs": [
        {
          "output_type": "execute_result",
          "data": {
            "text/plain": [
              "<matplotlib.axes._subplots.AxesSubplot at 0x7f913c968410>"
            ]
          },
          "metadata": {},
          "execution_count": 61
        },
        {
          "output_type": "display_data",
          "data": {
            "text/plain": [
              "<Figure size 648x360 with 1 Axes>"
            ],
            "image/png": "[encoded data removed]"
          },
          "metadata": {}
        }
      ]
    },
    {
      "cell_type": "code",
      "source": [
        "plt.title(\"Distribution of Sodium Level in the blood\") \n",
        "sns.histplot(df.serum_sodium, kde = True, color ='green')"
      ],
      "metadata": {
        "colab": {
          "base_uri": "https://localhost:8080/",
          "height": 379
        },
        "id": "a9LGTVmek0FB",
        "outputId": "e558a0b3-3080-47fb-857a-cb613e988670"
      },
      "execution_count": 62,
      "outputs": [
        {
          "output_type": "execute_result",
          "data": {
            "text/plain": [
              "<matplotlib.axes._subplots.AxesSubplot at 0x7f913c7c4490>"
            ]
          },
          "metadata": {},
          "execution_count": 62
        },
        {
          "output_type": "display_data",
          "data": {
            "text/plain": [
              "<Figure size 648x360 with 1 Axes>"
            ],
            "image/png": "[encoded data removed]"
          },
          "metadata": {}
        }
      ]
    },
    {
      "cell_type": "markdown",
      "source": [
        "Platelets count, Ejection Fraction and Creatinine Level are right skewed and Sodium Level is left skewed. "
      ],
      "metadata": {
        "id": "bFFoW9Rpk8_x"
      }
    },
    {
      "cell_type": "markdown",
      "source": [
        "# **Exploration**"
      ],
      "metadata": {
        "id": "DxQoknq6lEeL"
      }
    },
    {
      "cell_type": "markdown",
      "source": [
        "Q: How many number of patients are there in our observation? out of them how many male and female patients are there?\n"
      ],
      "metadata": {
        "id": "GCBZuiz8lRDI"
      }
    },
    {
      "cell_type": "code",
      "source": [
        "df.shape"
      ],
      "metadata": {
        "colab": {
          "base_uri": "https://localhost:8080/"
        },
        "id": "SAISMfz_lWXL",
        "outputId": "772d50ea-be6f-4203-81ca-4807e8f6f3fa"
      },
      "execution_count": 65,
      "outputs": [
        {
          "output_type": "execute_result",
          "data": {
            "text/plain": [
              "(299, 15)"
            ]
          },
          "metadata": {},
          "execution_count": 65
        }
      ]
    },
    {
      "cell_type": "code",
      "source": [
        "print(\"Total number of patients in our observation is {}.\".format(df.shape[0]))"
      ],
      "metadata": {
        "colab": {
          "base_uri": "https://localhost:8080/"
        },
        "id": "EoKfcN5bltmU",
        "outputId": "4689162a-c158-421d-eb2d-db7212d456a1"
      },
      "execution_count": 67,
      "outputs": [
        {
          "output_type": "stream",
          "name": "stdout",
          "text": [
            "Total number of patients in our observation is 299.\n"
          ]
        }
      ]
    },
    {
      "cell_type": "code",
      "source": [
        "df['sex'].value_counts()"
      ],
      "metadata": {
        "colab": {
          "base_uri": "https://localhost:8080/"
        },
        "id": "JJB5uCAZlklm",
        "outputId": "66dab112-62a6-4082-c579-831b4614e165"
      },
      "execution_count": 66,
      "outputs": [
        {
          "output_type": "execute_result",
          "data": {
            "text/plain": [
              "Male      194\n",
              "Female    105\n",
              "Name: sex, dtype: int64"
            ]
          },
          "metadata": {},
          "execution_count": 66
        }
      ]
    },
    {
      "cell_type": "code",
      "source": [
        "print(\"Total number of Male patients are\",df['sex'].value_counts()[0])\n",
        "print(\"Total number of Female patients are\",df['sex'].value_counts()[1])"
      ],
      "metadata": {
        "colab": {
          "base_uri": "https://localhost:8080/"
        },
        "id": "PIgaqZtzlxd8",
        "outputId": "c7ad3171-29e5-48d5-e4e6-2001b1666782"
      },
      "execution_count": 69,
      "outputs": [
        {
          "output_type": "stream",
          "name": "stdout",
          "text": [
            "Total number of Male patients are 194\n",
            "Total number of Female patients are 105\n"
          ]
        }
      ]
    },
    {
      "cell_type": "markdown",
      "source": [
        "Q: What is the normal level of Ejection Fraction? How many patients had abnormal Ejection Fraction?"
      ],
      "metadata": {
        "id": "pX_BMOR-mI84"
      }
    },
    {
      "cell_type": "code",
      "source": [
        "print(\"Normal level of Ejection Fraction is\",column_details_df.loc['Ejection fraction','normal_value'])"
      ],
      "metadata": {
        "colab": {
          "base_uri": "https://localhost:8080/"
        },
        "id": "5B9XH8zAmWyF",
        "outputId": "18d2b489-3f8e-4974-ad75-3eaed94cb3a2"
      },
      "execution_count": 74,
      "outputs": [
        {
          "output_type": "stream",
          "name": "stdout",
          "text": [
            "Normal level of Ejection Fraction is 55% - 70%\n"
          ]
        }
      ]
    },
    {
      "cell_type": "code",
      "source": [
        "print(\"Number of patients with abnormal Ejection fraction are\",df['abnormal_ef'].value_counts()[0])"
      ],
      "metadata": {
        "colab": {
          "base_uri": "https://localhost:8080/"
        },
        "id": "k01Ss6Vom1Q-",
        "outputId": "9c8fe6dd-111d-4a78-d68d-b68194783fba"
      },
      "execution_count": 79,
      "outputs": [
        {
          "output_type": "stream",
          "name": "stdout",
          "text": [
            "Number of patients with abnormal Ejection fraction are 261\n"
          ]
        }
      ]
    },
    {
      "cell_type": "markdown",
      "source": [
        "Q: What is the normal level of Platelets Count? How many patients had abnormal Platelets Count?"
      ],
      "metadata": {
        "id": "JDQ-SvIRndRv"
      }
    },
    {
      "cell_type": "code",
      "source": [
        "print(\"Normal level of Platelets Count is\",column_details_df.loc['Platelets','normal_value'])"
      ],
      "metadata": {
        "colab": {
          "base_uri": "https://localhost:8080/"
        },
        "id": "de9VvXuxnf1m",
        "outputId": "37aab7c6-1709-4d78-cb7a-d109c0261f2b"
      },
      "execution_count": 81,
      "outputs": [
        {
          "output_type": "stream",
          "name": "stdout",
          "text": [
            "Normal level of Platelets Count is 150 - 400 kilo-platelets / mcL\n"
          ]
        }
      ]
    },
    {
      "cell_type": "code",
      "source": [
        "print(\"Number of patients with abnormal Platelets Count are\",df['abnormal_platelets'].value_counts()[0])"
      ],
      "metadata": {
        "colab": {
          "base_uri": "https://localhost:8080/"
        },
        "id": "f2udbXL2nvLJ",
        "outputId": "72585802-24d1-4007-da2b-0f1db7cd587a"
      },
      "execution_count": 84,
      "outputs": [
        {
          "output_type": "stream",
          "name": "stdout",
          "text": [
            "Number of patients with abnormal Platelets Count are 252\n"
          ]
        }
      ]
    },
    {
      "cell_type": "markdown",
      "source": [
        "Q: What is the normal level of Creatinine in the blood? How many patients had abnormal Creatinine level?"
      ],
      "metadata": {
        "id": "HPg1TMixoBkO"
      }
    },
    {
      "cell_type": "code",
      "source": [
        "print(\"Normal level of Serum Creatinine is\",column_details_df.loc['Serum creatinine','normal_value'])"
      ],
      "metadata": {
        "colab": {
          "base_uri": "https://localhost:8080/"
        },
        "id": "h1jVLjydoIV7",
        "outputId": "eac59d9e-6231-4233-c687-72afbd370438"
      },
      "execution_count": 86,
      "outputs": [
        {
          "output_type": "stream",
          "name": "stdout",
          "text": [
            "Normal level of Serum Creatinine is 0.6 - 1.2 mg/dL\n"
          ]
        }
      ]
    },
    {
      "cell_type": "code",
      "source": [
        "print(\"Number of patients with abnormal Creatinine are\",df['abnormal_creatinine'].value_counts()[0])"
      ],
      "metadata": {
        "colab": {
          "base_uri": "https://localhost:8080/"
        },
        "id": "I106idMhoWbG",
        "outputId": "213df520-9797-47d6-e4b2-44151ac7c1d8"
      },
      "execution_count": 88,
      "outputs": [
        {
          "output_type": "stream",
          "name": "stdout",
          "text": [
            "Number of patients with abnormal Creatinine are 197\n"
          ]
        }
      ]
    },
    {
      "cell_type": "markdown",
      "source": [
        "Q: What is the normal level of Sodium in the blood? How many patients had abnormal Sodium level?"
      ],
      "metadata": {
        "id": "VbDz1NwPokjx"
      }
    },
    {
      "cell_type": "code",
      "source": [
        "print(\"Normal level of Serum Sodium is\",column_details_df.loc['Serum sodium','normal_value'])"
      ],
      "metadata": {
        "colab": {
          "base_uri": "https://localhost:8080/"
        },
        "id": "huUM3bhSosbp",
        "outputId": "b8959803-e759-4e41-8cec-72bd7d905b20"
      },
      "execution_count": 94,
      "outputs": [
        {
          "output_type": "stream",
          "name": "stdout",
          "text": [
            "Normal level of Serum Sodium is 135 - 145 mEq /L\n"
          ]
        }
      ]
    },
    {
      "cell_type": "code",
      "source": [
        "print(\"Number of patients with abnormal Sodium are\",df['abnormal_sodium'].value_counts()[0])"
      ],
      "metadata": {
        "colab": {
          "base_uri": "https://localhost:8080/"
        },
        "id": "lAoGaZncpOlV",
        "outputId": "f801f5ed-962b-4a3a-e5cb-89a318f50868"
      },
      "execution_count": 93,
      "outputs": [
        {
          "output_type": "stream",
          "name": "stdout",
          "text": [
            "Number of patients with abnormal Sodium are 214\n"
          ]
        }
      ]
    },
    {
      "cell_type": "markdown",
      "source": [
        "Q: How many patients had smoking habit? out of them how many male and female patients are there?"
      ],
      "metadata": {
        "id": "dqMOVYi2pZyO"
      }
    },
    {
      "cell_type": "code",
      "source": [
        "print(\"Number of Patients with smoking habit are\",df['smoking'].value_counts()[1])"
      ],
      "metadata": {
        "colab": {
          "base_uri": "https://localhost:8080/"
        },
        "id": "2pmVWdKGpg2P",
        "outputId": "e7ceb626-967e-48a8-c52b-66b202cd7292"
      },
      "execution_count": 98,
      "outputs": [
        {
          "output_type": "stream",
          "name": "stdout",
          "text": [
            "Number of Patients with smoking habit are 96\n"
          ]
        }
      ]
    },
    {
      "cell_type": "code",
      "source": [
        "print(\"Number of Male smoking patients are\",df[(df['smoking']==True) & (df[\"sex\"]=='Male')].shape[0])\n",
        "print(\"Number of Female smoking patients are\",df[(df['smoking']==True) & (df[\"sex\"]=='Female')].shape[0])"
      ],
      "metadata": {
        "colab": {
          "base_uri": "https://localhost:8080/"
        },
        "id": "BovIO3mRp_Jn",
        "outputId": "f9cbfa81-5857-421e-cf4b-734e932fc936"
      },
      "execution_count": 105,
      "outputs": [
        {
          "output_type": "stream",
          "name": "stdout",
          "text": [
            "Number of Male smoking patients are 92\n",
            "Number of Female smoking patients are 4\n"
          ]
        }
      ]
    },
    {
      "cell_type": "markdown",
      "source": [
        "Q: How many patients had anaemia or diabetes or high blood pressure?"
      ],
      "metadata": {
        "id": "uaFT4vyFq6N6"
      }
    },
    {
      "cell_type": "code",
      "source": [
        "anaemia_patients = df[df.anaemia == True].shape[0]\n",
        "diabetes_patients = df[df.diabetes == True].shape[0]\n",
        "high_bp_patients = df[df.high_blood_pressure == True].shape[0]"
      ],
      "metadata": {
        "id": "AkiNsmhIq7CF"
      },
      "execution_count": 109,
      "outputs": []
    },
    {
      "cell_type": "code",
      "source": [
        "print(\"Number of Patients with Anaemia is {}.\".format(anaemia_patients))\n",
        "print(\"Number of Patients with Diabetes is {}.\".format(diabetes_patients))\n",
        "print(\"Number of Patients with High Blood Pressure is {}.\".format(high_bp_patients))"
      ],
      "metadata": {
        "colab": {
          "base_uri": "https://localhost:8080/"
        },
        "id": "otB3aRMWrkGJ",
        "outputId": "8b8a246e-e210-430e-e453-4d3a7fb5ee6e"
      },
      "execution_count": 110,
      "outputs": [
        {
          "output_type": "stream",
          "name": "stdout",
          "text": [
            "Number of Patients with Anaemia is 129.\n",
            "Number of Patients with Diabetes is 125.\n",
            "Number of Patients with High Blood Pressure is 105.\n"
          ]
        }
      ]
    },
    {
      "cell_type": "markdown",
      "source": [
        "Q: How many patients had both (anaemia & diabetes) or (anaemia & high blood pressure) or (diabetes & high blood pressure)? And how many patients had all three?"
      ],
      "metadata": {
        "id": "wXm-jzUrrusi"
      }
    },
    {
      "cell_type": "code",
      "source": [
        "print(\"Number of Patients with Anaemia and Diabetes is\",df[(df['anaemia']==True) & (df['diabetes']==True)].shape[0])\n",
        "print(\"Number of Patients with Anaemia and High Blood Pressure is\",df[(df['anaemia']==True) & (df['high_blood_pressure']==True)].shape[0])\n",
        "print(\"Number of Patients with Diabetes and High Blood Pressure is\",df[(df['high_blood_pressure']==True) & (df['diabetes']==True)].shape[0])"
      ],
      "metadata": {
        "colab": {
          "base_uri": "https://localhost:8080/"
        },
        "id": "jxYIT6adryWa",
        "outputId": "dca3e73c-c7b2-4918-bca7-a90844a6bfc0"
      },
      "execution_count": 112,
      "outputs": [
        {
          "output_type": "stream",
          "name": "stdout",
          "text": [
            "Number of Patients with Anaemia and Diabetes is 53\n",
            "Number of Patients with Anaemia and High Blood Pressure is 48\n",
            "Number of Patients with Diabetes and High Blood Pressure is 43\n"
          ]
        }
      ]
    },
    {
      "cell_type": "code",
      "source": [
        "print(\"Number of Patients with Anaemia and Diabetes and High blood pressure is\",df[(df['anaemia']==True) & (df['diabetes']==True) & (df['high_blood_pressure']==True)].shape[0])"
      ],
      "metadata": {
        "colab": {
          "base_uri": "https://localhost:8080/"
        },
        "id": "D3ApcmRtyy8D",
        "outputId": "d831a667-3cf9-4e51-87f1-62722632d9f7"
      },
      "execution_count": 113,
      "outputs": [
        {
          "output_type": "stream",
          "name": "stdout",
          "text": [
            "Number of Patients with Anaemia and Diabetes and High blood pressure is 17\n"
          ]
        }
      ]
    },
    {
      "cell_type": "markdown",
      "source": [
        "Q: How many patients died during the follow-up period? out of them how many male and female patients are there?"
      ],
      "metadata": {
        "id": "rYnVmSG3zBUH"
      }
    },
    {
      "cell_type": "code",
      "source": [
        "print(\"Number of patients died during the follow up period is\",df['patient_dead'].value_counts()[1])"
      ],
      "metadata": {
        "colab": {
          "base_uri": "https://localhost:8080/"
        },
        "id": "zEHF1T26zC7Y",
        "outputId": "6abe95cf-8f46-413b-bbc5-98b8b32db40c"
      },
      "execution_count": 118,
      "outputs": [
        {
          "output_type": "stream",
          "name": "stdout",
          "text": [
            "Number of patients died during the follow up period is 96\n"
          ]
        }
      ]
    },
    {
      "cell_type": "code",
      "source": [
        "print(\"Number of male patients died during the follow up period is\",df[(df['patient_dead']==True) & (df['sex']=='Male')].shape[0])\n",
        "print(\"Number of female patients died during the follow up period is\",df[(df['patient_dead']==True) & (df['sex']=='Female')].shape[0])"
      ],
      "metadata": {
        "colab": {
          "base_uri": "https://localhost:8080/"
        },
        "id": "3KiXvJT2zZko",
        "outputId": "20bb0518-2516-4334-f45b-a6c9ebd0b267"
      },
      "execution_count": 120,
      "outputs": [
        {
          "output_type": "stream",
          "name": "stdout",
          "text": [
            "Number of male patients died during the follow up period is 62\n",
            "Number of female patients died during the follow up period is 34\n"
          ]
        }
      ]
    },
    {
      "cell_type": "markdown",
      "source": [
        "Q: Which disease / abnormality is most common and least common among the heart failure patients?"
      ],
      "metadata": {
        "id": "yM5_FJG_z5DX"
      }
    },
    {
      "cell_type": "code",
      "source": [
        "dict = ({df.columns[3]:abn_ef.shape[0]} , {df.columns[5]:abn_pc.shape[0]} , {df.columns[6]:abn_cl.shape[0]}, {df.columns[7]: abn_sl.shape[0]} , {df.columns[1]:anaemia_patients} , {df.columns[2]:diabetes_patients} , {df.columns[4]:high_bp_patients})\n",
        "print (dict)\n",
        "print (max(abn_ef.shape[0], abn_pc.shape[0], abn_cl.shape[0], abn_sl.shape[0], anaemia_patients , diabetes_patients , high_bp_patients )) \n",
        "print (min(abn_ef.shape[0], abn_pc.shape[0], abn_cl.shape[0], abn_sl.shape[0], anaemia_patients , diabetes_patients , high_bp_patients )) "
      ],
      "metadata": {
        "colab": {
          "base_uri": "https://localhost:8080/"
        },
        "id": "B38bmR7nz6B0",
        "outputId": "8aa71feb-96a5-410d-985e-60d5855fae89"
      },
      "execution_count": 121,
      "outputs": [
        {
          "output_type": "stream",
          "name": "stdout",
          "text": [
            "({'ejection_fraction': 261}, {'platelets': 47}, {'serum_creatinine': 102}, {'serum_sodium': 85}, {'anaemia': 129}, {'diabetes': 125}, {'high_blood_pressure': 105})\n",
            "261\n",
            "47\n"
          ]
        }
      ]
    },
    {
      "cell_type": "code",
      "source": [
        "print(\"The most common abnormality or disease among the heart failure patients is Ejection Fraction and 261 Patients had abnormal Ejection Fraction.\")"
      ],
      "metadata": {
        "colab": {
          "base_uri": "https://localhost:8080/"
        },
        "id": "INJTgQyc0x7V",
        "outputId": "3d47197c-9241-4c21-8779-8de6fc9a963e"
      },
      "execution_count": 122,
      "outputs": [
        {
          "output_type": "stream",
          "name": "stdout",
          "text": [
            "The most common abnormality or disease among the heart failure patients is Ejection Fraction and 261 Patients had abnormal Ejection Fraction.\n"
          ]
        }
      ]
    },
    {
      "cell_type": "code",
      "source": [
        "print(\"The least common abnormality or disease among the heart failure patients is Abnormal Platelets Count and 47 Patients had abnormal Platelets Count.\")"
      ],
      "metadata": {
        "colab": {
          "base_uri": "https://localhost:8080/"
        },
        "id": "9Ryhn31909oQ",
        "outputId": "be013846-dc6b-4d9c-f2ae-6f30e74ed654"
      },
      "execution_count": 123,
      "outputs": [
        {
          "output_type": "stream",
          "name": "stdout",
          "text": [
            "The least common abnormality or disease among the heart failure patients is Abnormal Platelets Count and 47 Patients had abnormal Platelets Count.\n"
          ]
        }
      ]
    },
    {
      "cell_type": "markdown",
      "source": [
        "Q: Does smoking habit affects the life of a heart failure patient?"
      ],
      "metadata": {
        "id": "-2dzrcW41EVc"
      }
    },
    {
      "cell_type": "code",
      "source": [
        "plt.title('Dead & Alive Patients with Smoking Habit')\n",
        "plt.xlabel('Age of Patients(Years)')\n",
        "plt.ylabel('Alive or Dead')\n",
        "sns.scatterplot(x = 'age', y = 'patient_dead', hue = 'smoking', data = df)"
      ],
      "metadata": {
        "colab": {
          "base_uri": "https://localhost:8080/",
          "height": 379
        },
        "id": "6wRSl-8l0_gj",
        "outputId": "d4c94eb6-4741-4cb9-fb09-6505cc00cfb3"
      },
      "execution_count": 125,
      "outputs": [
        {
          "output_type": "execute_result",
          "data": {
            "text/plain": [
              "<matplotlib.axes._subplots.AxesSubplot at 0x7f913c596750>"
            ]
          },
          "metadata": {},
          "execution_count": 125
        },
        {
          "output_type": "display_data",
          "data": {
            "text/plain": [
              "<Figure size 648x360 with 1 Axes>"
            ],
            "image/png": "[encoded data removed]"
          },
          "metadata": {}
        }
      ]
    },
    {
      "cell_type": "markdown",
      "source": [
        "From the above result, we can conclude that the number of patients with smoking habit died during follow-up period is less when compared to alive patients with smoking habit. It indicates that smoking habit has very less impact on the life of a heart failure patient."
      ],
      "metadata": {
        "id": "vz1S45wl1gVL"
      }
    },
    {
      "cell_type": "code",
      "source": [],
      "metadata": {
        "id": "QuMXaRhY1i2-"
      },
      "execution_count": null,
      "outputs": []
    },
    {
      "cell_type": "code",
      "source": [],
      "metadata": {
        "id": "_PiDIETX1CYH"
      },
      "execution_count": null,
      "outputs": []
    }
  ]
}